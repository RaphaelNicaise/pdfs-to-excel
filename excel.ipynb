{
 "cells": [
  {
   "cell_type": "code",
   "execution_count": 9,
   "id": "089ea988",
   "metadata": {},
   "outputs": [],
   "source": [
    "from xlwings import Book\n",
    "import pandas as pd\n",
    "import os"
   ]
  },
  {
   "cell_type": "code",
   "execution_count": 15,
   "id": "b463458c",
   "metadata": {},
   "outputs": [
    {
     "data": {
      "text/plain": [
       "<Picture 'Picture 6' in <Sheet [hoja.xlsx]Hoja1>>"
      ]
     },
     "execution_count": 15,
     "metadata": {},
     "output_type": "execute_result"
    }
   ],
   "source": [
    "wb = Book('hoja.xlsx')\n",
    "ws =  wb.sheets[0]\n",
    "\n",
    "img = os.path.abspath('assets/imagen.jpg')\n",
    "ws.pictures.add(\n",
    "    img,\n",
    "    top=ws.range('A1').top,\n",
    "    left=ws.range('A1').left,\n",
    "    width=ws.range('E5').left + ws.range('E5').width - ws.range('A1').left,\n",
    "    height=ws.range('E5').top + ws.range('E5').height - ws.range('A1').top\n",
    ")"
   ]
  },
  {
   "cell_type": "code",
   "execution_count": null,
   "id": "83d42d2a",
   "metadata": {},
   "outputs": [],
   "source": []
  }
 ],
 "metadata": {
  "kernelspec": {
   "display_name": "Python 3",
   "language": "python",
   "name": "python3"
  },
  "language_info": {
   "codemirror_mode": {
    "name": "ipython",
    "version": 3
   },
   "file_extension": ".py",
   "mimetype": "text/x-python",
   "name": "python",
   "nbconvert_exporter": "python",
   "pygments_lexer": "ipython3",
   "version": "3.13.3"
  }
 },
 "nbformat": 4,
 "nbformat_minor": 5
}
