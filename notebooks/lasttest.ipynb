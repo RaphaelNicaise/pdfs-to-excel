{
 "cells": [
  {
   "cell_type": "code",
   "execution_count": null,
   "id": "0bd5eb1c",
   "metadata": {},
   "outputs": [],
   "source": [
    "import os \n",
    "import re\n",
    "\n",
    "from pdfquery import PDFQuery\n",
    "import fitz\n",
    "import pandas as pd\n",
    "\n",
    "from functools import partial\n",
    "from ProcesamientoAG.scrap_pdf_AG import (\n",
    "    check_format,\n",
    "    get_PESO_BRUTO,\n",
    "    get_ADUANA_DESTINO,\n",
    "    get_CRT,\n",
    "    get_DDT,\n",
    "    get_DESTINATARIO,\n",
    "    get_DESTINO,\n",
    "    get_SEMI,\n",
    "    get_TRACTOR,\n",
    "    get_TRANSPORTE_CAMPO_1,\n",
    "    get_TRANSPORTE_CAMPO_9,\n",
    ")\n",
    "\n",
    "\n",
    "\n",
    "        \n",
    "\n",
    "pd.set_option('display.max_rows', None)\n",
    "pd.set_option('display.max_columns', None)\n",
    "pd.set_option('display.max_colwidth', None)\n",
    "\n",
    "def listar_archivos(directorio, formato=None):\n",
    "    \"\"\"\n",
    "    Lista los archivos en un directorio dado con un formato especifico.\n",
    "    Si no se especifica un formato, lista todos los archivos.\n",
    "    Retorna las rutas absolutas.\n",
    "    \"\"\"\n",
    "    directorio = os.path.abspath(directorio)  # asegura que el path sea absoluto\n",
    "    archivos = []\n",
    "    for file in os.listdir(directorio):\n",
    "        path_completo = os.path.join(directorio, file)\n",
    "        if os.path.isfile(path_completo) and (formato is None or file.lower().endswith(formato.lower())):\n",
    "            archivos.append(path_completo)\n",
    "    return archivos\n",
    "\n",
    "listar_archivos_pdf = partial(listar_archivos, formato='.pdf') \n",
    "__all__ = ['listar_archivos_pdf'] \n"
   ]
  },
  {
   "cell_type": "code",
   "execution_count": null,
   "id": "db372e24",
   "metadata": {},
   "outputs": [],
   "source": [
    "listado_archivos = listar_archivos_pdf('C:/Users/Usuario/Desktop/Rapha/pdfs-to-excel/testing-data/pdfs/abril 25')\n",
    "listado_archivos"
   ]
  },
  {
   "cell_type": "code",
   "execution_count": null,
   "id": "fbbe4794",
   "metadata": {},
   "outputs": [],
   "source": [
    "data = []\n",
    "for archivo in listado_archivos:\n",
    "    pdf = PDFQuery(archivo)\n",
    "    pdf.load(0)\n",
    "    data.append(get_TRACTOR(pdf))\n",
    "        "
   ]
  },
  {
   "cell_type": "code",
   "execution_count": null,
   "id": "e4f4365d",
   "metadata": {},
   "outputs": [],
   "source": [
    "df = pd.DataFrame(data, columns=['TRACTOR'])\n",
    "df.iloc[418]"
   ]
  },
  {
   "cell_type": "code",
   "execution_count": null,
   "id": "1dd224e8",
   "metadata": {},
   "outputs": [],
   "source": [
    "import re\n",
    "\n",
    "\n",
    "def extraer_patente(x):\n",
    "    if isinstance(x, str) and len(x) > 12:\n",
    "        # Buscar todas las palabras entre 6 y 10 caracteres con mayúsculas y números\n",
    "        matches = re.findall(r'\\b(?=\\w{6,10}\\b)(?=\\w*[A-Z])(?=\\w*\\d)\\w+\\b', x)\n",
    "        if matches:\n",
    "            return matches[0]  # Devuelve el primero que coincida\n",
    "    return x  # Si no hay coincidencias o es corto, devolver el original\n",
    "\n",
    "df['TRACTOR'] = df['TRACTOR'].apply(extraer_patente)\n",
    "\n",
    "df.iloc[418]\n"
   ]
  },
  {
   "cell_type": "code",
   "execution_count": null,
   "id": "f411c03f",
   "metadata": {},
   "outputs": [],
   "source": [
    "df"
   ]
  }
 ],
 "metadata": {
  "kernelspec": {
   "display_name": "VENV",
   "language": "python",
   "name": "python3"
  },
  "language_info": {
   "codemirror_mode": {
    "name": "ipython",
    "version": 3
   },
   "file_extension": ".py",
   "mimetype": "text/x-python",
   "name": "python",
   "nbconvert_exporter": "python",
   "pygments_lexer": "ipython3",
   "version": "3.13.3"
  }
 },
 "nbformat": 4,
 "nbformat_minor": 5
}
