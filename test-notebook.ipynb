{
 "cells": [
  {
   "cell_type": "code",
   "execution_count": 1,
   "id": "f80b3d96",
   "metadata": {},
   "outputs": [],
   "source": [
    "from pdfquery import PDFQuery\n",
    "import os \n",
    "import pandas as pd"
   ]
  },
  {
   "cell_type": "code",
   "execution_count": 3,
   "id": "9c054b5d",
   "metadata": {},
   "outputs": [
    {
     "data": {
      "text/plain": [
       "['c:\\\\Users\\\\Usuario\\\\Desktop\\\\Rapha\\\\pdfs-to-excel\\\\testing-data\\\\25AR083924M.pdf',\n",
       " 'c:\\\\Users\\\\Usuario\\\\Desktop\\\\Rapha\\\\pdfs-to-excel\\\\testing-data\\\\25AR083928Z.pdf',\n",
       " 'c:\\\\Users\\\\Usuario\\\\Desktop\\\\Rapha\\\\pdfs-to-excel\\\\testing-data\\\\25AR083932L.pdf',\n",
       " 'c:\\\\Users\\\\Usuario\\\\Desktop\\\\Rapha\\\\pdfs-to-excel\\\\testing-data\\\\25AR083941L.pdf',\n",
       " 'c:\\\\Users\\\\Usuario\\\\Desktop\\\\Rapha\\\\pdfs-to-excel\\\\testing-data\\\\25AR083944Y.pdf',\n",
       " 'c:\\\\Users\\\\Usuario\\\\Desktop\\\\Rapha\\\\pdfs-to-excel\\\\testing-data\\\\25AR083949T.pdf',\n",
       " 'c:\\\\Users\\\\Usuario\\\\Desktop\\\\Rapha\\\\pdfs-to-excel\\\\testing-data\\\\25AR083975S.pdf',\n",
       " 'c:\\\\Users\\\\Usuario\\\\Desktop\\\\Rapha\\\\pdfs-to-excel\\\\testing-data\\\\25AR083978V.pdf',\n",
       " 'c:\\\\Users\\\\Usuario\\\\Desktop\\\\Rapha\\\\pdfs-to-excel\\\\testing-data\\\\25AR083980Y.pdf',\n",
       " 'c:\\\\Users\\\\Usuario\\\\Desktop\\\\Rapha\\\\pdfs-to-excel\\\\testing-data\\\\25AR083981P.pdf',\n",
       " 'c:\\\\Users\\\\Usuario\\\\Desktop\\\\Rapha\\\\pdfs-to-excel\\\\testing-data\\\\25AR083984S.pdf',\n",
       " 'c:\\\\Users\\\\Usuario\\\\Desktop\\\\Rapha\\\\pdfs-to-excel\\\\testing-data\\\\25AR083990P.pdf',\n",
       " 'c:\\\\Users\\\\Usuario\\\\Desktop\\\\Rapha\\\\pdfs-to-excel\\\\testing-data\\\\25AR084001W.pdf',\n",
       " 'c:\\\\Users\\\\Usuario\\\\Desktop\\\\Rapha\\\\pdfs-to-excel\\\\testing-data\\\\25AR084011A.pdf',\n",
       " 'c:\\\\Users\\\\Usuario\\\\Desktop\\\\Rapha\\\\pdfs-to-excel\\\\testing-data\\\\25AR084028X.pdf',\n",
       " 'c:\\\\Users\\\\Usuario\\\\Desktop\\\\Rapha\\\\pdfs-to-excel\\\\testing-data\\\\25AR084032D.pdf',\n",
       " 'c:\\\\Users\\\\Usuario\\\\Desktop\\\\Rapha\\\\pdfs-to-excel\\\\testing-data\\\\25AR084037X.pdf',\n",
       " 'c:\\\\Users\\\\Usuario\\\\Desktop\\\\Rapha\\\\pdfs-to-excel\\\\testing-data\\\\25AR084038J.pdf',\n",
       " 'c:\\\\Users\\\\Usuario\\\\Desktop\\\\Rapha\\\\pdfs-to-excel\\\\testing-data\\\\25AR084040C.pdf',\n",
       " 'c:\\\\Users\\\\Usuario\\\\Desktop\\\\Rapha\\\\pdfs-to-excel\\\\testing-data\\\\25AR084455M.pdf',\n",
       " 'c:\\\\Users\\\\Usuario\\\\Desktop\\\\Rapha\\\\pdfs-to-excel\\\\testing-data\\\\25AR084463L.pdf',\n",
       " 'c:\\\\Users\\\\Usuario\\\\Desktop\\\\Rapha\\\\pdfs-to-excel\\\\testing-data\\\\25AR164141D.pdf',\n",
       " 'c:\\\\Users\\\\Usuario\\\\Desktop\\\\Rapha\\\\pdfs-to-excel\\\\testing-data\\\\IDIA-Syllabus.pdf']"
      ]
     },
     "execution_count": 3,
     "metadata": {},
     "output_type": "execute_result"
    }
   ],
   "source": [
    "# utils\n",
    "\n",
    "\n",
    "def listar_archivos(directorio, formato=None):\n",
    "    \"\"\"\n",
    "    Lista los archivos en un directorio dado con un formato específico.\n",
    "    Si no se especifica un formato, lista todos los archivos.\n",
    "    Retorna las rutas absolutas.\n",
    "    \"\"\"\n",
    "    directorio = os.path.abspath(directorio)  # ✅ Asegura que el path sea absoluto\n",
    "    archivos = []\n",
    "    for file in os.listdir(directorio):\n",
    "        path_completo = os.path.join(directorio, file)\n",
    "        if os.path.isfile(path_completo) and (formato is None or file.lower().endswith(formato.lower())):\n",
    "            archivos.append(path_completo)\n",
    "    return archivos\n",
    "\n",
    "def pdf_a_xml(pdf: PDFQuery) -> None:\n",
    "    pdf.tree.write('data/output.xml', encoding='utf-8', xml_declaration=True, pretty_print=True)\n",
    "    \n",
    "def test_func(function):\n",
    "    for i in archivos[:10:2]:\n",
    "        pdf = PDFQuery(i)\n",
    "        pdf.load(0)\n",
    "        print(function(pdf))\n",
    "\n",
    "archivos = listar_archivos('testing-data/', '.pdf')  # ✅ lista los\n",
    "archivos\n"
   ]
  },
  {
   "cell_type": "code",
   "execution_count": null,
   "id": "f3f35802",
   "metadata": {},
   "outputs": [],
   "source": [
    "# archivo\n",
    "\n",
    "pdf = PDFQuery('testing-data/03-MARZO-2025/25AR078530J')\n",
    "pdf.load(0)\n",
    "pdf_a_xml(pdf)"
   ]
  },
  {
   "cell_type": "code",
   "execution_count": null,
   "id": "7e2d80d8",
   "metadata": {},
   "outputs": [],
   "source": [
    "# archivo\n",
    "def get_archivo_nombre(pdf: PDFQuery) -> str:\n",
    "    \"\"\"\n",
    "    Extrae el nombre del archivo PDF.\n",
    "    \"\"\"\n",
    "    nombre = pdf.pq('LTTextLineHorizontal:contains(\"N°\")').next()\n",
    "    return nombre.text()\n",
    "\n",
    "test_func(get_archivo_nombre)"
   ]
  },
  {
   "cell_type": "code",
   "execution_count": null,
   "id": "965ad1ed",
   "metadata": {},
   "outputs": [],
   "source": [
    "# fecha_emision\n",
    "\n",
    "def get_fecha_emision(pdf: PDFQuery) -> str:\n",
    "    \"\"\"Obtiene la fecha de emision del archivo PDF usando pdfquery.\n",
    "    \"\"\"\n",
    "    fecha_emision_xml = pdf.pq('LTTextLineHorizontal:contains(\"Fecha Emision\")').next()\n",
    "    return fecha_emision_xml.text()\n",
    "\n",
    "test_func(get_fecha_emision)"
   ]
  },
  {
   "cell_type": "code",
   "execution_count": null,
   "id": "ff48fe44",
   "metadata": {},
   "outputs": [],
   "source": [
    "pdf = PDFQuery(f'testing-data/{archivos[7]}')\n",
    "pdf.load(0)\n",
    "#text = pdf.pq('LTTextLineHorizontal:contains(\"\")').text()\n",
    "\n",
    "\n",
    "pdf_a_xml(pdf)\n"
   ]
  },
  {
   "cell_type": "code",
   "execution_count": null,
   "id": "d31f3aa9",
   "metadata": {},
   "outputs": [],
   "source": [
    "for archivo in archivos:\n",
    "    pdf = PDFQuery(f'testing-data/{archivo}')\n",
    "    pdf.load(0) \n",
    "    porteador_xml = pdf.pq('LTTextLineHorizontal:contains(\"Nombre y domicilio del porteador\")').next()\n",
    "    if porteador_xml.text() == \"/ Nome e endereco do transportador\":\n",
    "        porteador_xml = porteador_xml.next()\n",
    "        \n",
    "    print(porteador_xml.text())"
   ]
  },
  {
   "cell_type": "code",
   "execution_count": null,
   "id": "45ccfc2e",
   "metadata": {},
   "outputs": [],
   "source": [
    "# PORTEADOR\n",
    "\n",
    "def get_porteador(pdf) -> str:\n",
    "    \"\"\"Obtiene el nombre y domicilio del porteador del archivo PDF usando pdfquery.\n",
    "    \"\"\"\n",
    "    porteador_xml = pdf.pq('LTTextLineHorizontal:contains(\"Nombre y domicilio del porteador\")').next()\n",
    "    if porteador_xml.text() == \"/ Nome e endereco do transportador\":\n",
    "        porteador_xml = porteador_xml.next()\n",
    "    return porteador_xml.text()\n",
    "\n",
    "for archivo in archivos:\n",
    "    pdf = PDFQuery(f'testing-data/{archivo}')\n",
    "    pdf.load(0)\n",
    "    print(get_porteador(pdf))"
   ]
  },
  {
   "cell_type": "code",
   "execution_count": null,
   "id": "08d1c480",
   "metadata": {},
   "outputs": [],
   "source": [
    "# ciudad_pais_partida\n",
    "\n",
    "def get_ciudad_pais_partida(pdf) -> str:\n",
    "    \"\"\"Obtiene la ciudad de partida del archivo PDF usando pdfquery.\n",
    "    \"\"\"\n",
    "    ciudad_partida_xml = pdf.pq('LTTextLineHorizontal:contains(\"Aduana, ciudad y pais de partida\")').next()\n",
    "    return ciudad_partida_xml.text()\n",
    "\n",
    "test_func(get_ciudad_pais_partida)"
   ]
  },
  {
   "cell_type": "code",
   "execution_count": null,
   "id": "08593d5f",
   "metadata": {},
   "outputs": [],
   "source": [
    "# ciudad_pais_destino\n",
    "\n",
    "def get_ciudad_pais_destino(pdf) -> str:\n",
    "    \"\"\"Obtiene la ciudad de destino del archivo PDF usando pdfquery.\n",
    "    \"\"\"\n",
    "    ciudad_destino_xml = pdf.pq('LTTextLineHorizontal:contains(\"/ Cidade e pais de destino final\")').next()\n",
    "    return ciudad_destino_xml.text()\n",
    "\n",
    "test_func(get_ciudad_pais_destino)"
   ]
  },
  {
   "cell_type": "code",
   "execution_count": null,
   "id": "81ea5185",
   "metadata": {},
   "outputs": [],
   "source": [
    "# camion_original -> en campo av vergara 6060 no termina de mostrar los datos, no encuentra la linea\n",
    "\n",
    "def get_camion_original(pdf) -> str:\n",
    "    \"\"\"Obtiene el camion original del archivo PDF usando pdfquery.\n",
    "    \"\"\"\n",
    "    x0, y0, x1, y1 = 31.52, 634.96, 306.04, 693.48\n",
    "\n",
    "    text_elements = pdf.pq(f'LTTextLineHorizontal:in_bbox(\"{x0},{y0},{x1},{y1}\")')\n",
    "    return text_elements.text().split(\"proprietario\", 1)[-1].strip()\n",
    "\n",
    "test_func(get_camion_original)\n"
   ]
  },
  {
   "cell_type": "code",
   "execution_count": null,
   "id": "4c331b97",
   "metadata": {},
   "outputs": [],
   "source": [
    "# placa_camion\n",
    "def get_placa_camion(pdf) -> str:\n",
    "    \"\"\"\n",
    "    Obtiene la placa del camión del archivo PDF usando pdfquery.\n",
    "    \"\"\"\n",
    "\n",
    "    placa_camion_xml = pdf.pq(f'LTTextBoxHorizontal:contains(\"Placa de Camion\")').next()\n",
    "    return placa_camion_xml.text().strip()\n",
    "\n",
    "test_func(get_placa_camion)"
   ]
  },
  {
   "cell_type": "code",
   "execution_count": null,
   "id": "f8420515",
   "metadata": {},
   "outputs": [],
   "source": [
    "# placa_semiremolque\n",
    "def get_placa_semiremolque(pdf):\n",
    "    \"\"\"\n",
    "    Obtiene la placa del semiremolque del archivo PDF usando pdfquery.\n",
    "    \"\"\"\n",
    "    placa_semiremolque_xml = pdf.pq(f'LTTextLineHorizontal:contains(\"Placa:\")').next()\n",
    "    return placa_semiremolque_xml.text().strip()\n",
    "\n",
    "test_func(get_placa_semiremolque)"
   ]
  },
  {
   "cell_type": "code",
   "execution_count": null,
   "id": "4b3b9eaa",
   "metadata": {},
   "outputs": [],
   "source": [
    "# carta_de_porte\n",
    "def get_carta_porte(pdf):\n",
    "    \"\"\"\n",
    "    Obtiene la carta de porte del archivo PDF usando pdfquery.\n",
    "    \"\"\"\n",
    "    carta_porte_xml = pdf.pq(f'LTTextLineHorizontal:contains(\"23 N? carta de porte\")').next().next()\n",
    "    return carta_porte_xml.text().strip()\n",
    "\n",
    "test_func(get_carta_porte)"
   ]
  },
  {
   "cell_type": "code",
   "execution_count": null,
   "id": "fcafd63b",
   "metadata": {},
   "outputs": [],
   "source": [
    "# aduana_destino\n",
    "def get_aduana_destino(pdf):\n",
    "    \"\"\"\n",
    "    Obtiene la aduana de destino del archivo PDF usando pdfquery.\n",
    "    \"\"\"\n",
    "    aduana_destino_xml = pdf.pq(f'LTTextLineHorizontal:contains(\"24 Aduana de destino/ Alfandega de destino\")').next()\n",
    "    return aduana_destino_xml.text().strip()\n",
    "\n",
    "test_func(get_aduana_destino)"
   ]
  },
  {
   "cell_type": "code",
   "execution_count": null,
   "id": "2170a080",
   "metadata": {},
   "outputs": [],
   "source": [
    "# destinatario\n",
    "\n",
    "def get_destinatario(pdf):\n",
    "    \"\"\"\n",
    "    Obtiene el destinatario del archivo PDF usando pdfquery.\n",
    "    \"\"\"\n",
    "    destinatario_xml = pdf.pq(f'LTTextLineHorizontal:contains(\"34 Destinatario / Destinatario\")').next()\n",
    "    return destinatario_xml.text().replace('\\n', '').strip()\n",
    "\n",
    "test_func(get_destinatario)"
   ]
  },
  {
   "cell_type": "code",
   "execution_count": null,
   "id": "02e535fa",
   "metadata": {},
   "outputs": [],
   "source": [
    "# valor_FOT\n",
    "\n",
    "def get_valor_FOT(pdf):\n",
    "    \"\"\"\n",
    "    Obtiene el valor FOT del archivo PDF usando pdfquery.\n",
    "    \"\"\"\n",
    "    valor_FOT_xml = pdf.pq(f'LTTextLineHorizontal:contains(\"/Valor FOT\")').next()\n",
    "    return float(valor_FOT_xml.text().strip())\n",
    "\n",
    "test_func(get_valor_FOT)"
   ]
  },
  {
   "cell_type": "code",
   "execution_count": null,
   "id": "1486a3cb",
   "metadata": {},
   "outputs": [],
   "source": [
    "# flete_usd\n",
    "\n",
    "def get_flete_usd(pdf):\n",
    "    \"\"\"\n",
    "    Obtiene el flete en USD del archivo PDF usando pdfquery.\n",
    "    \"\"\"\n",
    "    flete_usd_xml = pdf.pq(f'LTTextBoxHorizontal:contains(\"Frete em U$S\")').next()\n",
    "    return float(flete_usd_xml.text().strip())\n",
    "\n",
    "test_func(get_flete_usd)"
   ]
  },
  {
   "cell_type": "code",
   "execution_count": null,
   "id": "e9bc4572",
   "metadata": {},
   "outputs": [],
   "source": [
    "# consignatario\n",
    "\n",
    "def get_consignatario(pdf):\n",
    "    \"\"\"\n",
    "    Obtiene el consignatario del archivo PDF usando pdfquery.\n",
    "    \"\"\"\n",
    "    consignatario_xml = pdf.pq(f'LTTextLineHorizontal:contains(\"35 Consignatario /Consignatario \")').next()\n",
    "    return consignatario_xml.text().replace('\\n', '').strip()\n",
    "\n",
    "test_func(get_consignatario)"
   ]
  },
  {
   "cell_type": "code",
   "execution_count": null,
   "id": "57495acc",
   "metadata": {},
   "outputs": [],
   "source": [
    "# tipo_bultos\n",
    "\n",
    "def get_tipo_bultos(pdf):\n",
    "    \"\"\"\n",
    "    Obtiene el tipo de bultos del archivo PDF usando pdfquery.\n",
    "    \"\"\"\n",
    "    tipo_bultos_xml = pdf.pq(f'LTTextBoxHorizontal:contains(\"Tipo dos volumes\")').next()\n",
    "    return tipo_bultos_xml.text().strip()\n",
    "\n",
    "test_func(get_tipo_bultos)"
   ]
  },
  {
   "cell_type": "code",
   "execution_count": null,
   "id": "72ade5dc",
   "metadata": {},
   "outputs": [],
   "source": [
    "# cantidad_bultos\n",
    "def get_cantidad_bultos(pdf):\n",
    "    \"\"\"\n",
    "    Obtiene la cantidad de bultos del archivo PDF usando pdfquery.\n",
    "    \"\"\"\n",
    "\n",
    "    \n",
    "    cantidad_bultos_xml = pdf.pq(f'LTTextBoxHorizontal:contains(\"31 Cantidad de bultos \")').next()\n",
    "    return int(cantidad_bultos_xml.text().strip())\n",
    "\n",
    "test_func(get_cantidad_bultos)"
   ]
  },
  {
   "cell_type": "code",
   "execution_count": null,
   "id": "fa137b8c",
   "metadata": {},
   "outputs": [],
   "source": [
    "# peso_bruto\n",
    "def get_peso_bruto(pdf):\n",
    "\n",
    "    \"\"\"\n",
    "    Obtiene el peso bruto del archivo PDF usando pdfquery.\n",
    "    \"\"\"\n",
    "    peso_bruto_xml = pdf.pq(f'LTTextBoxHorizontal:contains(\"Peso bruto\")').next()\n",
    "    return float(peso_bruto_xml.text().strip())\n",
    "\n",
    "test_func(get_peso_bruto)"
   ]
  },
  {
   "cell_type": "code",
   "execution_count": null,
   "id": "d8967b0e",
   "metadata": {},
   "outputs": [],
   "source": [
    "# documentos_anexos\n",
    "\n",
    "def get_documentos_anexos(pdf):\n",
    "    \"\"\"\n",
    "    Obtiene los documentos anexos del archivo PDF usando pdfquery.\n",
    "    \"\"\"\n",
    "    documentos_anexos_xml = pdf.pq(f'LTTextLineHorizontal:contains(\"Documentos anexos\")').next()\n",
    "    return documentos_anexos_xml.text().strip()\n",
    "\n",
    "test_func(get_documentos_anexos)"
   ]
  },
  {
   "cell_type": "code",
   "execution_count": null,
   "id": "954ba9d7",
   "metadata": {},
   "outputs": [],
   "source": [
    "# descripcion_mercancia\n",
    "\n",
    "def get_descripcion_mercancia(pdf):\n",
    "    \"\"\"\n",
    "    Obtiene la descripcion de la mercancia del archivo PDF usando pdfquery.\n",
    "    \"\"\"\n",
    "    descripcion_mercancia_xml = pdf.pq(f'LTTextLineHorizontal:contains(\"/ Marcas e numeros dos volumes, descric?o das mercadorias\")').next()\n",
    "    return descripcion_mercancia_xml.text().strip()\n",
    "\n",
    "test_func(get_descripcion_mercancia)"
   ]
  },
  {
   "cell_type": "code",
   "execution_count": null,
   "id": "394cd2cf",
   "metadata": {},
   "outputs": [],
   "source": [
    "# conductor\n",
    "\n",
    "def get_conductor(pdf):\n",
    "    \"\"\"\n",
    "    Obtiene el nombre del conductor del archivo PDF usando pdfquery.\n",
    "    \"\"\"\n",
    "    conductor_xml = pdf.pq(f'LTTextLineHorizontal:contains(\"CONDUCTOR 1\")')\n",
    "    \n",
    "    return ''.join(conductor_xml.text().strip().split()[2:])\n",
    "\n",
    "test_func(get_conductor)"
   ]
  },
  {
   "cell_type": "code",
   "execution_count": null,
   "id": "39df270a",
   "metadata": {},
   "outputs": [],
   "source": [
    "def extraer_datos_pdf(pdf):\n",
    "    \"\"\"\n",
    "    Extrae los datos del archivo PDF usando pdfquery.\n",
    "    \"\"\"\n",
    "    datos = {\n",
    "        \"archivo\": get_archivo_nombre(pdf),\n",
    "        \"fecha_emision\": get_fecha_emision(pdf),\n",
    "        \"porteador\": get_porteador(pdf),\n",
    "        \"ciudad_pais_partida\": get_ciudad_pais_partida(pdf),\n",
    "        \"ciudad_pais_destino\": get_ciudad_pais_destino(pdf),\n",
    "        \"camion_original\": get_camion_original(pdf),\n",
    "        \"placa_camion\": get_placa_camion(pdf),\n",
    "        \"placa_semiremolque\": get_placa_semiremolque(pdf),\n",
    "        \"carta_porte\": get_carta_porte(pdf),\n",
    "        \"aduana_destino\": get_aduana_destino(pdf),\n",
    "        \"destinatario\": get_destinatario(pdf),\n",
    "        \"valor_FOT\": get_valor_FOT(pdf),\n",
    "        \"flete_usd\": get_flete_usd(pdf),\n",
    "        \"consignatario\": get_consignatario(pdf),\n",
    "        \"tipo_bultos\": get_tipo_bultos(pdf),\n",
    "        \"cantidad_bultos\": get_cantidad_bultos(pdf),\n",
    "        \"peso_bruto\": get_peso_bruto(pdf),\n",
    "        \"documentos_anexos\": get_documentos_anexos(pdf), # FIXEAR CORTAR  F. Ofic:*******\n",
    "        \"descripcion_mercancia\": get_descripcion_mercancia(pdf), # FIXEAR SOLO PARTE QUE DICE TENER\n",
    "        \"conductor\": get_conductor(pdf)\n",
    "    }\n",
    "    return datos\n",
    "\n"
   ]
  },
  {
   "cell_type": "code",
   "execution_count": null,
   "id": "45c3625f",
   "metadata": {},
   "outputs": [],
   "source": [
    "data = []\n",
    "for archivo in archivos:\n",
    "    pdf = PDFQuery(f'testing-data/{archivo}')\n",
    "    pdf.load(0)\n",
    "    datos = extraer_datos_pdf(pdf)\n",
    "    data.append(datos)"
   ]
  },
  {
   "cell_type": "code",
   "execution_count": null,
   "id": "39a42598",
   "metadata": {},
   "outputs": [],
   "source": [
    "df = pd.DataFrame(data)\n",
    "df.to_excel('data/output.xlsx', index=False)"
   ]
  },
  {
   "cell_type": "code",
   "execution_count": null,
   "id": "d3cb0c9f",
   "metadata": {},
   "outputs": [],
   "source": [
    "from pdfquery import PDFQuery\n",
    "import os\n",
    "from processing import process_pdf\n",
    "from utils import listar_archivos_pdf\n",
    "import pandas as pd\n",
    "\n",
    "\n",
    "# despues dividir por mes y año\n",
    "\n",
    "def process_all_pdfs(archivos: list)->list:\n",
    "    try:\n",
    "        data = list(map(process_pdf, archivos))\n",
    "    except Exception as e:\n",
    "        print(f\"Error procesando archivos: {e}\")\n",
    "        return None\n",
    "    \n",
    "    return data\n",
    "\n",
    "\n",
    "# de json a dataframe, y luego a excel\n",
    "\n",
    "# dejar un archivo general\n",
    "\n",
    "# despues dividir por mes y año\n",
    "\n",
    "if __name__ == \"__main__\":\n",
    "    archivos = listar_archivos_pdf('testing-data/')\n",
    "    \n",
    "    lista = process_all_pdfs(archivos)\n",
    "    df = pd.DataFrame(lista)\n",
    "    df.to_excel('data/output2.xlsx', index=False)"
   ]
  },
  {
   "cell_type": "code",
   "execution_count": 5,
   "id": "cf875070",
   "metadata": {},
   "outputs": [
    {
     "name": "stdout",
     "output_type": "stream",
     "text": [
      "True\n",
      "True\n",
      "True\n",
      "True\n",
      "True\n",
      "True\n",
      "True\n",
      "True\n",
      "True\n",
      "True\n",
      "True\n",
      "True\n",
      "True\n",
      "True\n",
      "True\n",
      "True\n",
      "True\n",
      "True\n",
      "True\n",
      "True\n",
      "True\n",
      "True\n"
     ]
    }
   ],
   "source": [
    "from pdfquery import PDFQuery\n",
    "\n",
    "from scrap_pdf import check_format\n",
    "\n",
    "\n",
    "for archivo in archivos:\n",
    "    pdf = PDFQuery(archivo)\n",
    "    pdf.load(0)\n",
    "    print(check_format(pdf))\n"
   ]
  }
 ],
 "metadata": {
  "kernelspec": {
   "display_name": "venv",
   "language": "python",
   "name": "python3"
  },
  "language_info": {
   "codemirror_mode": {
    "name": "ipython",
    "version": 3
   },
   "file_extension": ".py",
   "mimetype": "text/x-python",
   "name": "python",
   "nbconvert_exporter": "python",
   "pygments_lexer": "ipython3",
   "version": "3.13.3"
  }
 },
 "nbformat": 4,
 "nbformat_minor": 5
}
