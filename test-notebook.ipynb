{
 "cells": [
  {
   "cell_type": "code",
   "execution_count": null,
   "id": "f80b3d96",
   "metadata": {},
   "outputs": [],
   "source": [
    "import os \n",
    "import re\n",
    "\n",
    "from pdfquery import PDFQuery\n",
    "import fitz\n",
    "import pandas as pd\n",
    "from utils import (\n",
    "    convertir_pdf_a_xml\n",
    ")\n",
    "from ProcesamientoAG.scrap_pdf_AG import (\n",
    "    check_format,\n",
    "    get_PESO_BRUTO,\n",
    "    get_ADUANA_DESTINO,\n",
    "    get_CRT,\n",
    "    get_DDT,\n",
    "    get_DESTINATARIO,\n",
    "    get_DESTINO,\n",
    "    get_SEMI,\n",
    "    get_TRACTOR,\n",
    "    get_TRANSPORTE_CAMPO_1,\n",
    "    get_TRANSPORTE_CAMPO_9,\n",
    ")\n",
    "from utils import (\n",
    "    listar_archivos_pdf\n",
    ")\n",
    "\n",
    "def test_func(function):\n",
    "    for i in archivos[:10:2]:\n",
    "        pdf = PDFQuery(i)\n",
    "        pdf.load(0)\n",
    "        print(function(pdf))\n",
    "        \n",
    "\n",
    "pd.set_option('display.max_rows', None)\n",
    "pd.set_option('display.max_columns', None)\n",
    "pd.set_option('display.max_colwidth', None)\n"
   ]
  },
  {
   "cell_type": "code",
   "execution_count": null,
   "id": "f3f35802",
   "metadata": {},
   "outputs": [],
   "source": [
    "archivos = listar_archivos_pdf('C:/Users/Usuario/Desktop/Rapha/pdfs-to-excel/testing-data/03-MARZO-2025')\n"
   ]
  },
  {
   "cell_type": "code",
   "execution_count": null,
   "id": "7e2d80d8",
   "metadata": {},
   "outputs": [],
   "source": [
    "archivos"
   ]
  },
  {
   "cell_type": "code",
   "execution_count": null,
   "id": "cf875070",
   "metadata": {},
   "outputs": [],
   "source": [
    "\n",
    "archivo = archivos[20]"
   ]
  },
  {
   "cell_type": "code",
   "execution_count": null,
   "id": "fddd9295",
   "metadata": {},
   "outputs": [],
   "source": [
    "convertir_pdf_a_xml('C:/Users/Usuario/Desktop/Rapha/pdfs-to-excel/testing-data/03-MARZO-2025/25AR121569K.pdf', output_path='data/archivo.xml')"
   ]
  },
  {
   "cell_type": "code",
   "execution_count": null,
   "id": "16fbf7b3",
   "metadata": {},
   "outputs": [],
   "source": [
    "for archivo in archivos:\n",
    "    pdf = PDFQuery(archivo)\n",
    "    pdf.load(0)\n",
    "\n",
    "    print(get_TRANSPORTE_CAMPO_99(pdf))\n"
   ]
  },
  {
   "cell_type": "code",
   "execution_count": null,
   "id": "3c860829",
   "metadata": {},
   "outputs": [],
   "source": [
    "\n",
    "\n",
    "import re\n",
    "import fitz\n",
    "import pandas as pd\n",
    "\n",
    "def get_TRANSPORTE_CAMPO_9_1(archivos: list[str]):\n",
    "    \"\"\"_summary_\n",
    "\n",
    "    Args:\n",
    "        archivo (str): _description_\n",
    "\n",
    "    Returns:\n",
    "        _type_: _description_\n",
    "    \"\"\"\n",
    "    \n",
    "    data = []\n",
    "    for archivo in archivos:\n",
    "    \n",
    "        pdf = fitz.open(archivo).load_page(0)\n",
    "        # Load the page content as text\n",
    "        page_text = pdf.get_text(\"text\")\n",
    "\n",
    "        texto_antes = 'CAMINH?O ORIGINAL : Nome e endereco do proprietario\\n9\\n'\n",
    "        texto_despues = 'CAMION SUBSTITUTO : Nombre y domicilio del propietario'\n",
    "\n",
    "        pattern = re.escape(texto_antes) + r\"(.*?)\" + re.escape(texto_despues)\n",
    "        \n",
    "        matches = re.findall(pattern, page_text, re.DOTALL)\n",
    "\n",
    "        data.append(matches[0].split('- ')[0].strip()) if matches else None\n",
    "    \n",
    "    return data\n",
    "\n",
    "get_TRANSPORTE_CAMPO_9_1(archivos)\n"
   ]
  },
  {
   "cell_type": "code",
   "execution_count": null,
   "id": "0faf082f",
   "metadata": {},
   "outputs": [],
   "source": []
  },
  {
   "cell_type": "code",
   "execution_count": null,
   "id": "4d808072",
   "metadata": {},
   "outputs": [],
   "source": []
  },
  {
   "cell_type": "code",
   "execution_count": null,
   "id": "74c0866a",
   "metadata": {},
   "outputs": [],
   "source": [
    "def get_PRECINTO(pdf: PDFQuery):\n",
    "    \n",
    "    text  =  pdf.pq('LTTextLineHorizontal:contains(\"37 Numero de los precintos\")').next().text()\n",
    "    return text"
   ]
  },
  {
   "cell_type": "code",
   "execution_count": null,
   "id": "ca7c479c",
   "metadata": {},
   "outputs": [],
   "source": [
    "for archivo in archivos:\n",
    "    pdf = PDFQuery(archivo)\n",
    "    pdf.load(0)\n",
    "    print(get_PRECINTO(pdf))"
   ]
  },
  {
   "cell_type": "code",
   "execution_count": null,
   "id": "b8177800",
   "metadata": {},
   "outputs": [],
   "source": [
    "import pandas as pd\n",
    "import matplotlib.pyplot as plt\n",
    "\n",
    "df = pd.read_excel('data/agtest1.xlsx',sheet_name='Sheet1', header=0, engine='openpyxl')\n",
    "df\n",
    "\n",
    "# hacer un grafico de torta con TRANSPORTE CAMPO 1 Y QUE SUME POR CDA UNO CANTIDAD BULTOS, ponemelo en cantidad\n",
    "df.groupby('TRANSPORTE CAMPO 1')['KILOS BRUTOS'].sum().plot.pie(autopct='%1.1f%%', startangle=90, figsize=(8, 8))\n",
    "\n"
   ]
  },
  {
   "cell_type": "code",
   "execution_count": null,
   "id": "2203c808",
   "metadata": {},
   "outputs": [],
   "source": [
    "def get_EXPORTADOR(pdf: PDFQuery):\n",
    "    text  =  pdf.pq('LTTextLineHorizontal:contains(\"/ Remetente\")').next().text()\n",
    "    return text"
   ]
  },
  {
   "cell_type": "code",
   "execution_count": null,
   "id": "fc96795a",
   "metadata": {},
   "outputs": [],
   "source": [
    "data = []\n",
    "for archivo in archivos:\n",
    "    pdf = PDFQuery(archivo)\n",
    "    pdf.load(0)\n",
    "    data.append(get_DESTINATARIO(pdf))\n",
    "\n"
   ]
  },
  {
   "cell_type": "code",
   "execution_count": null,
   "id": "3d2d3904",
   "metadata": {},
   "outputs": [],
   "source": [
    "def get_DESTINATARIO(pdf: PDFQuery):\n",
    "    text  =  pdf.pq('LTTextLineHorizontal:contains(\"34 Destinatario / Destinatario\")').next().text()\n",
    "    return text\n",
    "\n",
    "pdf = PDFQuery(archivos[1])\n",
    "pdf.load(0)\n",
    "get_DESTINATARIO(pdf)"
   ]
  },
  {
   "cell_type": "code",
   "execution_count": null,
   "id": "cca2285d",
   "metadata": {},
   "outputs": [],
   "source": [
    "data = []\n",
    "for archivo in archivos:\n",
    "    \n",
    "    pdf = fitz.open(archivo).load_page(0)\n",
    "        # Load the page content as text\n",
    "    page_text = pdf.get_text(\"text\")\n",
    "\n",
    "    #print(page_text)\n",
    "\n",
    "    texto_antes = '/ Destinatario'\n",
    "    texto_despues = '35 Consignatario /Consignatario'\n",
    "    pattern = re.escape(texto_antes) + r\"(.*)\" + re.escape(texto_despues)\n",
    "    matches = re.findall(pattern, page_text, re.DOTALL)\n",
    "\n",
    "    print(matches[0].split('\\n')[1]) if matches else None\n",
    "    print('----------------------------------------------------------------------')\n"
   ]
  },
  {
   "cell_type": "code",
   "execution_count": null,
   "id": "f1494640",
   "metadata": {},
   "outputs": [],
   "source": [
    "def get_DESTINATARIO(archivos: list[str]):\n",
    "    data = []\n",
    "    for archivo in archivos:\n",
    "        \n",
    "        pdf = fitz.open(archivo).load_page(0)\n",
    "            # Load the page content as text\n",
    "        page_text = pdf.get_text(\"text\")\n",
    "\n",
    "        #print(page_text)\n",
    "\n",
    "        texto_antes = '/ Destinatario'\n",
    "        texto_despues = '35 Consignatario /Consignatario'\n",
    "        pattern = re.escape(texto_antes) + r\"(.*)\" + re.escape(texto_despues)\n",
    "        matches = re.findall(pattern, page_text, re.DOTALL)\n",
    "\n",
    "        data.append(matches[0].split('\\n')[1] if matches else None)\n",
    "    return data\n",
    "\n",
    "get_DESTINATARIO(archivos)"
   ]
  },
  {
   "cell_type": "code",
   "execution_count": null,
   "id": "326ed5c2",
   "metadata": {},
   "outputs": [],
   "source": [
    "def check_format(pdf: PDFQuery):\n",
    "    \"\"\"\n",
    "    Verifica si el formato del PDF es correcto.\n",
    "\n",
    "\n",
    "    Args:\n",
    "        pdf (PDFQuery): instancia de PDFQuery del archivo PDF.\n",
    "    \"\"\"\n",
    "    try:\n",
    "        val = bool(pdf.pq('LTTextLineHorizontal:contains(\"Manifiesto Internacional de Carga por Carretera / Declaracion de Transito Aduanero\")'))\n",
    "        return val\n",
    "    except Exception as e:\n",
    "        raise ValueError(f\"Error al verificar el formato del PDF: {e}\")\n",
    "    \n",
    "pdf = PDFQuery(archivos[0])\n",
    "pdf.load(0)    \n",
    "check_format(pdf)"
   ]
  },
  {
   "cell_type": "code",
   "execution_count": null,
   "id": "0cf24de6",
   "metadata": {},
   "outputs": [],
   "source": [
    "df = pd.read_excel('data/DATAAAANEWLAST.xlsx')\n",
    "\n",
    "#df['PRODUCTO'] = #LOGICA EN BASE AL EXPORTADOR\n",
    "    \n",
    "    #SI EL EXPORTADOR ES\tLA MERCADERIA ES\n",
    "    #PBBPOLISUR SOCIEDAD DE RESPONS\tPOLIETILENO\n",
    "    #UNIPAR INDUPA SAIC\tPOLICLORURO DE VINILO\n",
    "    #COMPA?IA MEGA SOCIEDAD ANONIMA\tGAS LICUADO\n",
    "    #COMPA?IA MOLINERA DEL SUR S. A\tSEMOLA DE TRIGO\n",
    "    #TRANSPORTADORA DE GAS DEL SUR\tGAS LICUADO\n",
    "    #VITERRA ARGENTINA S.A.\tACEITE / PELLETS / LECITINA\n",
    "    #LA NUEVA MANERA S.A.\tHARINA DE TRIGO\n",
    "    #SYNGENTA\tACEITE\n",
    "    #SI NO CUMPLE CON LAS ANTERIORES\tINDETERMINADO\n",
    "    \n",
    "def logica_PRODUCTO():\n",
    "    pass\n",
    "\n",
    "df\n"
   ]
  },
  {
   "cell_type": "code",
   "execution_count": null,
   "id": "49b24dd0",
   "metadata": {},
   "outputs": [],
   "source": [
    "def get_EXPORTADOR(pdf: PDFQuery):\n",
    "    text  =  pdf.pq('LTTextLineHorizontal:contains(\"/ Remetente\")').next().text()\n",
    "    return text"
   ]
  },
  {
   "cell_type": "code",
   "execution_count": null,
   "id": "47ebab03",
   "metadata": {},
   "outputs": [],
   "source": [
    "data = []\n",
    "for archivo in archivos:\n",
    "    pdf = PDFQuery(archivo)\n",
    "    pdf.load(0)\n",
    "    data.append(get_EXPORTADOR(pdf))\n",
    "    "
   ]
  },
  {
   "cell_type": "code",
   "execution_count": null,
   "id": "af9df9cb",
   "metadata": {},
   "outputs": [],
   "source": [
    "archivo = archivos[0]\n",
    "pdf = PDFQuery(archivo)\n",
    "pdf.load(0)\n",
    "get_NACIONALIDAD_TRANSPORTE()"
   ]
  },
  {
   "cell_type": "code",
   "execution_count": null,
   "id": "0eb71275",
   "metadata": {},
   "outputs": [],
   "source": [
    "import pandas as pd\n",
    "\n",
    "df = pd.DataFrame({'EXPORTADOR':data})\n",
    "df['EXPORTADOR'] = df['EXPORTADOR'].str.split('\\n').str[0]\n",
    "df"
   ]
  },
  {
   "cell_type": "code",
   "execution_count": null,
   "id": "a4f135dc",
   "metadata": {},
   "outputs": [],
   "source": [
    "df = "
   ]
  },
  {
   "cell_type": "code",
   "execution_count": null,
   "id": "64ee1a48",
   "metadata": {},
   "outputs": [],
   "source": [
    "\n"
   ]
  },
  {
   "cell_type": "code",
   "execution_count": null,
   "id": "ea8b3b4e",
   "metadata": {},
   "outputs": [],
   "source": [
    "df = pd.DataFrame({'ARCHIVOS':archivoss,'NACIONALIDAD_TRANSPORTE_X':data})\n",
    "\n",
    "PAISES_MERCOSUR = ['ARGENTINA', 'BRASIL', 'PARAGUAY', 'URUGUAY', 'VENEZUELA', 'CHILE', 'BOLIVIA']    \n",
    "\n",
    "df['NACIONALIDAD_TRANSPORTE_X'] = df['NACIONALIDAD_TRANSPORTE_X'].apply(\n",
    "    lambda x: next((pais for pais in PAISES_MERCOSUR if pais in x), None)\n",
    ")\n",
    "df_pdfs_que_no_toman_pais = df[df['NACIONALIDAD_TRANSPORTE_X'].isnull()]['ARCHIVOS']\n",
    "# archivos que no tienen nacionalidad de transporte\n",
    "\n",
    "df_pdfs_que_no_toman_pais"
   ]
  },
  {
   "cell_type": "code",
   "execution_count": null,
   "id": "454327a4",
   "metadata": {},
   "outputs": [],
   "source": [
    "for archivo in archivos:\n",
    "    texto = fitz.open(archivo).load_page(0).get_text(\"text\")\n",
    "    #al texto aplicarle regex para obtener todo el texto entre '/ Nome e endereco do transportado'\n",
    "    # hasta 7 Aduana, ciudad y pais de partida\n",
    "    texto_antes = 'Nombre y domicilio del porteador'\n",
    "    texto_despues = '7 Aduana, ciudad y pais de partida'\n",
    "    pattern = re.escape(texto_antes) + r\"(.*?)\" + re.escape(texto_despues)\n",
    "    matches = re.findall(pattern, texto, re.DOTALL)\n",
    "    \n",
    "    # y a matches aplicarle otro regex para obtener el pais del mercosur que encuentre en el texto\n",
    "    # y si no encuentra nada, poner 'NO ENCONTRADO'\n",
    "    if matches:\n",
    "        pais = re.search(r'\\b(?:ARGENTINA|BRASIL|PARAGUAY|URUGUAY|VENEZUELA|CHILE|BOLIVIA)\\b', matches[0])\n",
    "        if pais:\n",
    "            print(pais.group())\n",
    "        else:\n",
    "            print('NO ENCONTRADO')\n",
    "    else:\n",
    "        print('NO ENCONTRADO')\n",
    "    \n",
    "    print('--------------------------------------------------')\n"
   ]
  },
  {
   "cell_type": "code",
   "execution_count": null,
   "id": "c603bc8d",
   "metadata": {},
   "outputs": [],
   "source": [
    "def get_NACIONALIDAD_TRANSPORTE(archivos_validos: list[str]):\n",
    "    data = []\n",
    "    for archivo in archivos_validos:\n",
    "        pdf = fitz.open(archivo).load_page(0)\n",
    "        # Load the page content as text\n",
    "        page_text = pdf.get_text(\"text\")\n",
    "\n",
    "        #print(page_text)\n",
    "\n",
    "        texto_antes = 'Nombre y domicilio del porteador'\n",
    "        texto_despues = '7 Aduana, ciudad y pais de partida'\n",
    "        pattern = re.escape(texto_antes) + r\"(.*?)\" + re.escape(texto_despues)\n",
    "        \n",
    "        matches = re.findall(pattern, page_text, re.DOTALL)\n",
    "\n",
    "        if matches:\n",
    "            pais = re.search(r'\\b(?:ARGENTINA|BRASIL|PARAGUAY|URUGUAY|VENEZUELA|CHILE|BOLIVIA)\\b', matches[0])\n",
    "            if pais:\n",
    "                data.append(pais.group())\n",
    "            else:\n",
    "                data.append('NO ENCONTRADO')\n",
    "        else:\n",
    "            data.append('NO ENCONTRADO')\n",
    "    return data"
   ]
  },
  {
   "cell_type": "code",
   "execution_count": null,
   "id": "62b94c40",
   "metadata": {},
   "outputs": [],
   "source": [
    "archivos_validos = archivos\n",
    "data = get_NACIONALIDAD_TRANSPORTE(archivos_validos)\n",
    "len(data)"
   ]
  },
  {
   "cell_type": "code",
   "execution_count": null,
   "id": "e499c1a6",
   "metadata": {},
   "outputs": [],
   "source": [
    "df = pd.read_excel('data/peterlangula.xlsx', engine='openpyxl', sheet_name='Sheet1', header=0)\n",
    "df.head(10)"
   ]
  },
  {
   "cell_type": "code",
   "execution_count": null,
   "id": "8e596def",
   "metadata": {},
   "outputs": [],
   "source": [
    "def extraer_factura_y_orden(descripcion_mercancia: pd.Series) -> pd.DataFrame:\n",
    "    \"\"\" Obtiene la factura y orden de la descripcion de mercancia\n",
    "\n",
    "    Args:\n",
    "        descripcion_mercancia (pd.Series): _description_\n",
    "\n",
    "    Returns:\n",
    "        pd.DataFrame: _description_\n",
    "    \"\"\"\n",
    "    # Definir las expresiones regulares\n",
    "    regex_factura_proforma = re.compile(r'FACTURA\\s+PROFORMA\\s+(\\d{6,})', re.IGNORECASE)\n",
    "    regex_factura_nro = re.compile(r'FACTURA\\s+NRO\\.\\s+([A-Z0-9-]{10,})', re.IGNORECASE)\n",
    "    regex_factura_exportacion = re.compile(r'FACTURA\\s+(?:DE\\s+)?EXPORTACION(?:\\s+E)?\\s+([0-9]{4,5}-[A-Z0-9]{8})', re.IGNORECASE)\n",
    "    regex_fact_de_exp = re.compile(r'FACT(?:\\.|URA)?\\.?DE\\.?EXP\\.?\\s*([0-9]{4}-[0-9]{8})', re.IGNORECASE)\n",
    "    regex_factura_simple = re.compile(r'\\b([0-9]{4}-[0-9]{8})\\b')\n",
    "    regex_orden = re.compile(r'ORDEN\\s+(\\d{9,10})', re.IGNORECASE)\n",
    "\n",
    "    resultados = []\n",
    "\n",
    "    for desc in descripcion_mercancia:\n",
    "        if not isinstance(desc, str):\n",
    "            resultados.append({'FACTURA Nº': '', 'ORDEN': ''})\n",
    "            continue\n",
    "\n",
    "        desc_upper = desc.upper()\n",
    "        desc_upper = re.sub(r'SHIPMENT\\s*:\\s*\\d+', '', desc_upper)\n",
    "\n",
    "        factura = ''\n",
    "        orden = ''\n",
    "        \n",
    "        # Buscar FACTURA PROFORMA\n",
    "        if match := regex_factura_proforma.search(desc_upper):\n",
    "            factura = match.group(1)  \n",
    "            orden = match.group(1)\n",
    "        else:\n",
    "            match_orden = regex_orden.search(desc_upper)\n",
    "            if match_orden:\n",
    "                orden = match_orden.group(1)\n",
    "            if match := regex_factura_exportacion.search(desc_upper):\n",
    "                factura = match.group(1)\n",
    "            else:\n",
    "                if match := regex_factura_nro.search(desc_upper):\n",
    "                    factura = match.group(1)\n",
    "                else:\n",
    "                    if match := regex_fact_de_exp.search(desc_upper):\n",
    "                        factura = match.group(1)\n",
    "                    else:\n",
    "                        if match := regex_factura_simple.search(desc_upper):\n",
    "                            factura = match.group(1)\n",
    "        resultados.append({'FACTURA Nº': factura, 'ORDEN': orden})\n",
    "\n",
    "    return pd.DataFrame(resultados)\n",
    "\n",
    "def agregar_factura_y_orden(df: pd.DataFrame) -> pd.DataFrame:\n",
    "    \"\"\"\n",
    "        Toma un DataFrame, elimina la columna 'descripcion_mercancia',\n",
    "        extrae las columnas 'FACTURA Nº' y 'ORDEN' usando la función extraer_factura_y_orden,\n",
    "        y las inserta en el DataFrame.\n",
    "\n",
    "        Args:\n",
    "            df (pd.DataFrame): DataFrame original.\n",
    "\n",
    "        Returns:\n",
    "            pd.DataFrame: DataFrame modificado con las columnas 'FACTURA Nº' y 'ORDEN'.\n",
    "    \"\"\"\n",
    "    # Extraer 'FACTURA Nº' y 'ORDEN' de 'descripcion_mercancia'\n",
    "    factura_orden_df = extraer_factura_y_orden(df['descripcion_mercancia'])\n",
    "        \n",
    "    # Eliminar la columna 'descripcion_mercancia'\n",
    "    df = df.drop(columns=['descripcion_mercancia'])\n",
    "        \n",
    "        # Concatenar el DataFrame original con las nuevas columnas\n",
    "    df = pd.concat([df, factura_orden_df], axis=1)\n",
    "        \n",
    "    return df"
   ]
  },
  {
   "cell_type": "code",
   "execution_count": null,
   "id": "3094994c",
   "metadata": {},
   "outputs": [],
   "source": [
    "df = agregar_factura_y_orden(df)"
   ]
  },
  {
   "cell_type": "code",
   "execution_count": null,
   "id": "8e128317",
   "metadata": {},
   "outputs": [],
   "source": [
    "df.head(10)"
   ]
  },
  {
   "cell_type": "code",
   "execution_count": null,
   "id": "4f0e41a2",
   "metadata": {},
   "outputs": [],
   "source": [
    "df"
   ]
  }
 ],
 "metadata": {
  "kernelspec": {
   "display_name": "venv",
   "language": "python",
   "name": "python3"
  },
  "language_info": {
   "codemirror_mode": {
    "name": "ipython",
    "version": 3
   },
   "file_extension": ".py",
   "mimetype": "text/x-python",
   "name": "python",
   "nbconvert_exporter": "python",
   "pygments_lexer": "ipython3",
   "version": "3.13.3"
  }
 },
 "nbformat": 4,
 "nbformat_minor": 5
}
