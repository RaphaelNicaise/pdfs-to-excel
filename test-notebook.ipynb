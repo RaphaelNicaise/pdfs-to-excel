{
 "cells": [
  {
   "cell_type": "code",
   "execution_count": 2,
   "id": "f80b3d96",
   "metadata": {},
   "outputs": [],
   "source": [
    "from pdfquery import PDFQuery\n",
    "import os \n",
    "import pandas as pd\n",
    "from scrap_pdf import (\n",
    "    get_PESO_BRUTO,\n",
    "    get_ADUANA_DESTINO,\n",
    "    get_CRT,\n",
    "    get_DDT,\n",
    "    get_DESTINATARIO,\n",
    "    get_DESTINO,\n",
    "    get_SEMI,\n",
    "    get_TRACTOR,\n",
    "    get_TRANSPORTE_CAMPO_1,\n",
    "    get_TRANSPORTE_CAMPO_9,\n",
    ")\n",
    "from utils import (\n",
    "    listar_archivos_pdf,\n",
    "    pdf_a_xml\n",
    ")\n",
    "\n",
    "def test_func(function):\n",
    "    for i in archivos[:10:2]:\n",
    "        pdf = PDFQuery(i)\n",
    "        pdf.load(0)\n",
    "        print(function(pdf))\n"
   ]
  },
  {
   "cell_type": "code",
   "execution_count": 6,
   "id": "f3f35802",
   "metadata": {},
   "outputs": [
    {
     "ename": "FileNotFoundError",
     "evalue": "[WinError 3] El sistema no puede encontrar la ruta especificada: 'c:\\\\testing-data'",
     "output_type": "error",
     "traceback": [
      "\u001b[31m---------------------------------------------------------------------------\u001b[39m",
      "\u001b[31mFileNotFoundError\u001b[39m                         Traceback (most recent call last)",
      "\u001b[36mCell\u001b[39m\u001b[36m \u001b[39m\u001b[32mIn[6]\u001b[39m\u001b[32m, line 1\u001b[39m\n\u001b[32m----> \u001b[39m\u001b[32m1\u001b[39m \u001b[43mlistar_archivos_pdf\u001b[49m\u001b[43m(\u001b[49m\u001b[33;43m'\u001b[39;49m\u001b[33;43m/testing-data\u001b[39;49m\u001b[33;43m'\u001b[39;49m\u001b[43m)\u001b[49m\n",
      "\u001b[36mFile \u001b[39m\u001b[32mc:\\Users\\ferna\\OneDrive\\Desktop\\Rapha\\pdfs-to-excel\\utils.py:30\u001b[39m, in \u001b[36mlistar_archivos\u001b[39m\u001b[34m(directorio, formato)\u001b[39m\n\u001b[32m     28\u001b[39m directorio = os.path.abspath(directorio)  \u001b[38;5;66;03m# asegura que el path sea absoluto\u001b[39;00m\n\u001b[32m     29\u001b[39m archivos = []\n\u001b[32m---> \u001b[39m\u001b[32m30\u001b[39m \u001b[38;5;28;01mfor\u001b[39;00m file \u001b[38;5;129;01min\u001b[39;00m \u001b[43mos\u001b[49m\u001b[43m.\u001b[49m\u001b[43mlistdir\u001b[49m\u001b[43m(\u001b[49m\u001b[43mdirectorio\u001b[49m\u001b[43m)\u001b[49m:\n\u001b[32m     31\u001b[39m     path_completo = os.path.join(directorio, file)\n\u001b[32m     32\u001b[39m     \u001b[38;5;28;01mif\u001b[39;00m os.path.isfile(path_completo) \u001b[38;5;129;01mand\u001b[39;00m (formato \u001b[38;5;129;01mis\u001b[39;00m \u001b[38;5;28;01mNone\u001b[39;00m \u001b[38;5;129;01mor\u001b[39;00m file.lower().endswith(formato.lower())):\n",
      "\u001b[31mFileNotFoundError\u001b[39m: [WinError 3] El sistema no puede encontrar la ruta especificada: 'c:\\\\testing-data'"
     ]
    }
   ],
   "source": [
    "listar_archivos_pdf('/testing-data')"
   ]
  },
  {
   "cell_type": "code",
   "execution_count": null,
   "id": "7e2d80d8",
   "metadata": {},
   "outputs": [],
   "source": []
  },
  {
   "cell_type": "code",
   "execution_count": 5,
   "id": "cf875070",
   "metadata": {},
   "outputs": [
    {
     "name": "stdout",
     "output_type": "stream",
     "text": [
      "True\n",
      "True\n",
      "True\n",
      "True\n",
      "True\n",
      "True\n",
      "True\n",
      "True\n",
      "True\n",
      "True\n",
      "True\n",
      "True\n",
      "True\n",
      "True\n",
      "True\n",
      "True\n",
      "True\n",
      "True\n",
      "True\n",
      "True\n",
      "True\n",
      "True\n"
     ]
    }
   ],
   "source": [
    "from pdfquery import PDFQuery\n",
    "\n",
    "from scrap_pdf import check_format\n",
    "\n",
    "\n",
    "for archivo in archivos:\n",
    "    pdf = PDFQuery(archivo)\n",
    "    pdf.load(0)\n",
    "    print(check_format(pdf))\n"
   ]
  }
 ],
 "metadata": {
  "kernelspec": {
   "display_name": "Python 3",
   "language": "python",
   "name": "python3"
  },
  "language_info": {
   "codemirror_mode": {
    "name": "ipython",
    "version": 3
   },
   "file_extension": ".py",
   "mimetype": "text/x-python",
   "name": "python",
   "nbconvert_exporter": "python",
   "pygments_lexer": "ipython3",
   "version": "3.13.3"
  }
 },
 "nbformat": 4,
 "nbformat_minor": 5
}
