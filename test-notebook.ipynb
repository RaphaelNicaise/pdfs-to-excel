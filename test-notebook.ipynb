{
 "cells": [
  {
   "cell_type": "code",
   "execution_count": 1,
   "id": "f80b3d96",
   "metadata": {},
   "outputs": [],
   "source": [
    "from pdfquery import PDFQuery\n",
    "import os \n",
    "import pandas as pd"
   ]
  },
  {
   "cell_type": "code",
   "execution_count": 21,
   "id": "9c054b5d",
   "metadata": {},
   "outputs": [
    {
     "data": {
      "text/plain": [
       "['c:\\\\Users\\\\Usuario\\\\Desktop\\\\Rapha\\\\pdfs-to-excel\\\\testing-data\\\\25AR083924M.pdf',\n",
       " 'c:\\\\Users\\\\Usuario\\\\Desktop\\\\Rapha\\\\pdfs-to-excel\\\\testing-data\\\\25AR083928Z.pdf',\n",
       " 'c:\\\\Users\\\\Usuario\\\\Desktop\\\\Rapha\\\\pdfs-to-excel\\\\testing-data\\\\25AR083932L.pdf',\n",
       " 'c:\\\\Users\\\\Usuario\\\\Desktop\\\\Rapha\\\\pdfs-to-excel\\\\testing-data\\\\25AR083941L.pdf',\n",
       " 'c:\\\\Users\\\\Usuario\\\\Desktop\\\\Rapha\\\\pdfs-to-excel\\\\testing-data\\\\25AR083944Y.pdf',\n",
       " 'c:\\\\Users\\\\Usuario\\\\Desktop\\\\Rapha\\\\pdfs-to-excel\\\\testing-data\\\\25AR083949T.pdf',\n",
       " 'c:\\\\Users\\\\Usuario\\\\Desktop\\\\Rapha\\\\pdfs-to-excel\\\\testing-data\\\\25AR083975S.pdf',\n",
       " 'c:\\\\Users\\\\Usuario\\\\Desktop\\\\Rapha\\\\pdfs-to-excel\\\\testing-data\\\\25AR083978V.pdf',\n",
       " 'c:\\\\Users\\\\Usuario\\\\Desktop\\\\Rapha\\\\pdfs-to-excel\\\\testing-data\\\\25AR083980Y.pdf',\n",
       " 'c:\\\\Users\\\\Usuario\\\\Desktop\\\\Rapha\\\\pdfs-to-excel\\\\testing-data\\\\25AR083981P.pdf',\n",
       " 'c:\\\\Users\\\\Usuario\\\\Desktop\\\\Rapha\\\\pdfs-to-excel\\\\testing-data\\\\25AR083984S.pdf',\n",
       " 'c:\\\\Users\\\\Usuario\\\\Desktop\\\\Rapha\\\\pdfs-to-excel\\\\testing-data\\\\25AR083990P.pdf',\n",
       " 'c:\\\\Users\\\\Usuario\\\\Desktop\\\\Rapha\\\\pdfs-to-excel\\\\testing-data\\\\25AR084001W.pdf',\n",
       " 'c:\\\\Users\\\\Usuario\\\\Desktop\\\\Rapha\\\\pdfs-to-excel\\\\testing-data\\\\25AR084011A.pdf',\n",
       " 'c:\\\\Users\\\\Usuario\\\\Desktop\\\\Rapha\\\\pdfs-to-excel\\\\testing-data\\\\25AR084028X.pdf',\n",
       " 'c:\\\\Users\\\\Usuario\\\\Desktop\\\\Rapha\\\\pdfs-to-excel\\\\testing-data\\\\25AR084032D.pdf',\n",
       " 'c:\\\\Users\\\\Usuario\\\\Desktop\\\\Rapha\\\\pdfs-to-excel\\\\testing-data\\\\25AR084037X.pdf',\n",
       " 'c:\\\\Users\\\\Usuario\\\\Desktop\\\\Rapha\\\\pdfs-to-excel\\\\testing-data\\\\25AR084038J.pdf',\n",
       " 'c:\\\\Users\\\\Usuario\\\\Desktop\\\\Rapha\\\\pdfs-to-excel\\\\testing-data\\\\25AR084040C.pdf',\n",
       " 'c:\\\\Users\\\\Usuario\\\\Desktop\\\\Rapha\\\\pdfs-to-excel\\\\testing-data\\\\25AR084455M.pdf',\n",
       " 'c:\\\\Users\\\\Usuario\\\\Desktop\\\\Rapha\\\\pdfs-to-excel\\\\testing-data\\\\25AR084463L.pdf',\n",
       " 'c:\\\\Users\\\\Usuario\\\\Desktop\\\\Rapha\\\\pdfs-to-excel\\\\testing-data\\\\25AR164141D.pdf']"
      ]
     },
     "execution_count": 21,
     "metadata": {},
     "output_type": "execute_result"
    }
   ],
   "source": [
    "# utils\n",
    "\n",
    "\n",
    "def listar_archivos(directorio, formato=None):\n",
    "    \"\"\"\n",
    "    Lista los archivos en un directorio dado con un formato específico.\n",
    "    Si no se especifica un formato, lista todos los archivos.\n",
    "    Retorna las rutas absolutas.\n",
    "    \"\"\"\n",
    "    directorio = os.path.abspath(directorio)  # ✅ Asegura que el path sea absoluto\n",
    "    archivos = []\n",
    "    for file in os.listdir(directorio):\n",
    "        path_completo = os.path.join(directorio, file)\n",
    "        if os.path.isfile(path_completo) and (formato is None or file.lower().endswith(formato.lower())):\n",
    "            archivos.append(path_completo)\n",
    "    return archivos\n",
    "\n",
    "def pdf_a_xml(pdf: PDFQuery) -> None:\n",
    "    pdf.tree.write('data/output.xml', encoding='utf-8', xml_declaration=True, pretty_print=True)\n",
    "    \n",
    "def test_func(function):\n",
    "    for i in archivos[:10:2]:\n",
    "        pdf = PDFQuery(i)\n",
    "        pdf.load(0)\n",
    "        print(function(pdf))\n",
    "\n",
    "archivos = listar_archivos('testing-data/', '.pdf')  # ✅ lista los\n",
    "archivos\n"
   ]
  },
  {
   "cell_type": "code",
   "execution_count": 12,
   "id": "f3f35802",
   "metadata": {},
   "outputs": [],
   "source": [
    "# archivo\n",
    "\n",
    "pdf = PDFQuery(archivos[0])\n",
    "pdf.load(0)\n",
    "pdf_a_xml(pdf)"
   ]
  },
  {
   "cell_type": "code",
   "execution_count": 22,
   "id": "7e2d80d8",
   "metadata": {},
   "outputs": [
    {
     "name": "stdout",
     "output_type": "stream",
     "text": [
      "25AR083924M\n",
      "25AR083932L\n",
      "25AR083944Y\n",
      "25AR083975S\n",
      "25AR083980Y\n"
     ]
    }
   ],
   "source": [
    "# archivo\n",
    "def get_archivo_nombre(pdf: PDFQuery) -> str:\n",
    "    \"\"\"\n",
    "    Extrae el nombre del archivo PDF.\n",
    "    \"\"\"\n",
    "    nombre = pdf.pq('LTTextLineHorizontal:contains(\"N°\")').next()\n",
    "    return nombre.text()\n",
    "\n",
    "test_func(get_archivo_nombre)"
   ]
  },
  {
   "cell_type": "code",
   "execution_count": 32,
   "id": "965ad1ed",
   "metadata": {},
   "outputs": [
    {
     "name": "stdout",
     "output_type": "stream",
     "text": [
      "01-MAR-25\n",
      "02-MAR-25\n",
      "05-MAR-25\n",
      "01-MAR-25\n",
      "01-MAR-25\n"
     ]
    }
   ],
   "source": [
    "# fecha_emision\n",
    "\n",
    "def get_fecha_emision(pdf: PDFQuery) -> str:\n",
    "    \"\"\"Obtiene la fecha de emision del archivo PDF usando pdfquery.\n",
    "    \"\"\"\n",
    "    fecha_emision_xml = pdf.pq('LTTextLineHorizontal:contains(\"Fecha Emision\")').next()\n",
    "    return fecha_emision_xml.text()\n",
    "\n",
    "test_func(get_fecha_emision)"
   ]
  },
  {
   "cell_type": "code",
   "execution_count": 33,
   "id": "ff48fe44",
   "metadata": {},
   "outputs": [
    {
     "name": "stdout",
     "output_type": "stream",
     "text": [
      "/ Nome e endereco do transportador\n"
     ]
    }
   ],
   "source": [
    "pdf = PDFQuery(f'testing-data/{archivos[7]}')\n",
    "pdf.load(0)\n",
    "#text = pdf.pq('LTTextLineHorizontal:contains(\"\")').text()\n",
    "\n",
    "\n",
    "pdf_a_xml(pdf)\n"
   ]
  },
  {
   "cell_type": "code",
   "execution_count": 37,
   "id": "d31f3aa9",
   "metadata": {},
   "outputs": [
    {
     "name": "stdout",
     "output_type": "stream",
     "text": [
      "EXPRESO EL AGUILUCHO S.A.\n",
      "EXPRESO EL AGUILUCHO S.A.\n",
      "EXPRESO EL AGUILUCHO S.A.\n",
      "EXPRESO EL AGUILUCHO S.A.\n",
      "EXPRESO EL AGUILUCHO S.A.\n",
      "EXPRESO EL AGUILUCHO S.A.\n",
      "EMPRESA DE TTES. DON PEDRO S.R.L.\n",
      "EMPRESA DE TTES. DON PEDRO S.R.L.\n",
      "EMPRESA DE TTES. DON PEDRO S.R.L.\n",
      "EMPRESA DE TTES. DON PEDRO S.R.L.\n",
      "EMPRESA DE TTES. DON PEDRO S.R.L.\n",
      "EMPRESA DE TTES. DON PEDRO S.R.L.\n",
      "TRANSPORTE CRUZ DEL SUR S.A.\n",
      "TRANSPORTES CRUZ DEL SUR S.A.\n",
      "TRANSPORTES CRUZ DEL SUR S.A.\n",
      "TRANSPORTES CRUZ DEL SUR S.A.\n",
      "TRANSPORTES CRUZ DEL SUR S.A.\n",
      "EMPRESA DE TTES. DON PEDRO S.R.L.\n",
      "EMPRESA DE TTES. DON PEDRO S.R.L.\n",
      "PETROLERA ALVEAR S.R.L.\n",
      "PETROLERA ALVEAR S.R.L.\n",
      "EXPRESO EL AGUILUCHO S.A.\n"
     ]
    }
   ],
   "source": [
    "for archivo in archivos:\n",
    "    pdf = PDFQuery(f'testing-data/{archivo}')\n",
    "    pdf.load(0) \n",
    "    porteador_xml = pdf.pq('LTTextLineHorizontal:contains(\"Nombre y domicilio del porteador\")').next()\n",
    "    if porteador_xml.text() == \"/ Nome e endereco do transportador\":\n",
    "        porteador_xml = porteador_xml.next()\n",
    "        \n",
    "    print(porteador_xml.text())"
   ]
  },
  {
   "cell_type": "code",
   "execution_count": 20,
   "id": "45ccfc2e",
   "metadata": {},
   "outputs": [
    {
     "name": "stdout",
     "output_type": "stream",
     "text": [
      "EXPRESO EL AGUILUCHO S.A.\n",
      "EXPRESO EL AGUILUCHO S.A.\n",
      "EXPRESO EL AGUILUCHO S.A.\n",
      "EXPRESO EL AGUILUCHO S.A.\n",
      "EXPRESO EL AGUILUCHO S.A.\n",
      "EXPRESO EL AGUILUCHO S.A.\n",
      "EMPRESA DE TTES. DON PEDRO S.R.L.\n",
      "EMPRESA DE TTES. DON PEDRO S.R.L.\n",
      "EMPRESA DE TTES. DON PEDRO S.R.L.\n",
      "EMPRESA DE TTES. DON PEDRO S.R.L.\n",
      "EMPRESA DE TTES. DON PEDRO S.R.L.\n",
      "EMPRESA DE TTES. DON PEDRO S.R.L.\n",
      "TRANSPORTE CRUZ DEL SUR S.A.\n",
      "TRANSPORTES CRUZ DEL SUR S.A.\n",
      "TRANSPORTES CRUZ DEL SUR S.A.\n",
      "TRANSPORTES CRUZ DEL SUR S.A.\n",
      "TRANSPORTES CRUZ DEL SUR S.A.\n",
      "EMPRESA DE TTES. DON PEDRO S.R.L.\n",
      "EMPRESA DE TTES. DON PEDRO S.R.L.\n",
      "PETROLERA ALVEAR S.R.L.\n",
      "PETROLERA ALVEAR S.R.L.\n",
      "EXPRESO EL AGUILUCHO S.A.\n"
     ]
    }
   ],
   "source": [
    "# PORTEADOR\n",
    "\n",
    "def get_porteador(pdf) -> str:\n",
    "    \"\"\"Obtiene el nombre y domicilio del porteador del archivo PDF usando pdfquery.\n",
    "    \"\"\"\n",
    "    porteador_xml = pdf.pq('LTTextLineHorizontal:contains(\"Nombre y domicilio del porteador\")').next()\n",
    "    if porteador_xml.text() == \"/ Nome e endereco do transportador\":\n",
    "        porteador_xml = porteador_xml.next()\n",
    "    return porteador_xml.text()\n",
    "\n",
    "for archivo in archivos:\n",
    "    pdf = PDFQuery(f'testing-data/{archivo}')\n",
    "    pdf.load(0)\n",
    "    print(get_porteador(pdf))"
   ]
  },
  {
   "cell_type": "code",
   "execution_count": 35,
   "id": "08d1c480",
   "metadata": {},
   "outputs": [
    {
     "name": "stdout",
     "output_type": "stream",
     "text": [
      "BAHIA BLANCA-ARGENTINA\n",
      "BAHIA BLANCA-ARGENTINA\n",
      "BAHIA BLANCA-ARGENTINA\n",
      "BAHIA BLANCA-ARGENTINA\n",
      "BAHIA BLANCA-ARGENTINA\n"
     ]
    }
   ],
   "source": [
    "# ciudad_pais_partida\n",
    "\n",
    "def get_ciudad_pais_partida(pdf) -> str:\n",
    "    \"\"\"Obtiene la ciudad de partida del archivo PDF usando pdfquery.\n",
    "    \"\"\"\n",
    "    ciudad_partida_xml = pdf.pq('LTTextLineHorizontal:contains(\"Aduana, ciudad y pais de partida\")').next()\n",
    "    return ciudad_partida_xml.text()\n",
    "\n",
    "test_func(get_ciudad_pais_partida)"
   ]
  },
  {
   "cell_type": "code",
   "execution_count": 36,
   "id": "08593d5f",
   "metadata": {},
   "outputs": [
    {
     "name": "stdout",
     "output_type": "stream",
     "text": [
      "ITAJAI-BRASIL\n",
      "ITAJAI-BRASIL\n",
      "ITAJAI-BRASIL\n",
      "MONTEVIDEO-URUGUAY\n",
      "MONTEVIDEO-URUGUAY\n"
     ]
    }
   ],
   "source": [
    "# ciudad_pais_destino\n",
    "\n",
    "def get_ciudad_pais_destino(pdf) -> str:\n",
    "    \"\"\"Obtiene la ciudad de destino del archivo PDF usando pdfquery.\n",
    "    \"\"\"\n",
    "    ciudad_destino_xml = pdf.pq('LTTextLineHorizontal:contains(\"/ Cidade e pais de destino final\")').next()\n",
    "    return ciudad_destino_xml.text()\n",
    "\n",
    "test_func(get_ciudad_pais_destino)"
   ]
  },
  {
   "cell_type": "code",
   "execution_count": 37,
   "id": "81ea5185",
   "metadata": {},
   "outputs": [
    {
     "name": "stdout",
     "output_type": "stream",
     "text": [
      "XPRESO EL AGUILUCHO S.A. - NECOCHEA 2601 - ROSARIO - SANTA FE - ARGENTINA\n",
      "XPRESO EL AGUILUCHO S.A. - NECOCHEA 2601 - ROSARIO - SANTA FE - ARGENTINA\n",
      "XPRESO EL AGUILUCHO S.A. - NECOCHEA 2601 - ROSARIO - SANTA FE - ARGENTINA\n",
      "MPRESA DE TTES. DON PEDRO S.R.L. - AV. VERGARA 6060 -\n",
      "MPRESA DE TTES. DON PEDRO S.R.L. - AV. VERGARA 6060 -\n"
     ]
    }
   ],
   "source": [
    "# camion_original -> en campo av vergara 6060 no termina de mostrar los datos, no encuentra la linea\n",
    "\n",
    "def get_camion_original(pdf) -> str:\n",
    "    \"\"\"Obtiene el camion original del archivo PDF usando pdfquery.\n",
    "    \"\"\"\n",
    "    x0, y0, x1, y1 = 31.52, 634.96, 306.04, 693.48\n",
    "\n",
    "    text_elements = pdf.pq(f'LTTextLineHorizontal:in_bbox(\"{x0},{y0},{x1},{y1}\")')\n",
    "    return text_elements.text().split(\"proprietario\", 1)[-1].strip()\n",
    "\n",
    "test_func(get_camion_original)\n"
   ]
  },
  {
   "cell_type": "code",
   "execution_count": 38,
   "id": "4c331b97",
   "metadata": {},
   "outputs": [
    {
     "name": "stdout",
     "output_type": "stream",
     "text": [
      "NDP946\n",
      "AB251CJ\n",
      "HJR534\n",
      "AE667VS\n",
      "AG028ZS\n"
     ]
    }
   ],
   "source": [
    "# placa_camion\n",
    "def get_placa_camion(pdf) -> str:\n",
    "    \"\"\"\n",
    "    Obtiene la placa del camión del archivo PDF usando pdfquery.\n",
    "    \"\"\"\n",
    "\n",
    "    placa_camion_xml = pdf.pq(f'LTTextBoxHorizontal:contains(\"Placa de Camion\")').next()\n",
    "    return placa_camion_xml.text().strip()\n",
    "\n",
    "test_func(get_placa_camion)"
   ]
  },
  {
   "cell_type": "code",
   "execution_count": 39,
   "id": "f8420515",
   "metadata": {},
   "outputs": [
    {
     "name": "stdout",
     "output_type": "stream",
     "text": [
      "AE891SO\n",
      "EMR189\n",
      "FGF446\n",
      "NLK538\n",
      "NLK564\n"
     ]
    }
   ],
   "source": [
    "# placa_semiremolque\n",
    "def get_placa_semiremolque(pdf):\n",
    "    \"\"\"\n",
    "    Obtiene la placa del semiremolque del archivo PDF usando pdfquery.\n",
    "    \"\"\"\n",
    "    placa_semiremolque_xml = pdf.pq(f'LTTextLineHorizontal:contains(\"Placa:\")').next()\n",
    "    return placa_semiremolque_xml.text().strip()\n",
    "\n",
    "test_func(get_placa_semiremolque)"
   ]
  },
  {
   "cell_type": "code",
   "execution_count": null,
   "id": "4b3b9eaa",
   "metadata": {},
   "outputs": [
    {
     "name": "stdout",
     "output_type": "stream",
     "text": [
      "003AR.398.041358\n",
      "003AR.398.041359\n",
      "003AR.398.041360\n",
      "0032907\n",
      "0032909\n"
     ]
    }
   ],
   "source": [
    "# carta_de_porte\n",
    "def get_carta_porte(pdf):\n",
    "    \"\"\"\n",
    "    Obtiene la carta de porte del archivo PDF usando pdfquery.\n",
    "    \"\"\"\n",
    "    carta_porte_xml = pdf.pq(f'LTTextLineHorizontal:contains(\"23 N? carta de porte\")').next().next()\n",
    "    return carta_porte_xml.text().strip()\n",
    "\n",
    "test_func(get_carta_porte)"
   ]
  },
  {
   "cell_type": "code",
   "execution_count": 41,
   "id": "fcafd63b",
   "metadata": {},
   "outputs": [
    {
     "name": "stdout",
     "output_type": "stream",
     "text": [
      "1017500-URUGUAIANA-\n",
      "1017500-URUGUAIANA-\n",
      "1017500-URUGUAIANA-\n",
      "FRAY BENTOS-\n",
      "FRAY BENTOS-\n"
     ]
    }
   ],
   "source": [
    "# aduana_destino\n",
    "def get_aduana_destino(pdf):\n",
    "    \"\"\"\n",
    "    Obtiene la aduana de destino del archivo PDF usando pdfquery.\n",
    "    \"\"\"\n",
    "    aduana_destino_xml = pdf.pq(f'LTTextLineHorizontal:contains(\"24 Aduana de destino/ Alfandega de destino\")').next()\n",
    "    return aduana_destino_xml.text().strip()\n",
    "\n",
    "test_func(get_aduana_destino)"
   ]
  },
  {
   "cell_type": "code",
   "execution_count": 42,
   "id": "2170a080",
   "metadata": {},
   "outputs": [
    {
     "name": "stdout",
     "output_type": "stream",
     "text": [
      "DOW BRASIL IND E COM DE PROD QUIMICOSPLANT A972ROD BR-101 700KM 112 ANDAR 2 GALPAO 2 SALEIROS88311-600ITAJAI - SCBRAZIL (CNPJ 60435351000319)\n",
      "DOW BRASIL IND E COM DE PROD QUIMICOSPLANT A972ROD BR-101 700KM 112 ANDAR 2 GALPAO 2 SALEIROS88311-600ITAJAI - SCBRAZIL (CNPJ 60435351000319)\n",
      "DOW BRASIL IND E COM DE PRODUTOS QUIMICOS LTDA.PLANT A972 ROD BR-101 700 KM 112 ANDAR 2 GALAPAO 2 SALEIROS (88311-600)ITAJAI - SANTA CATARINA - BRAZIL (CNPJ 60435351000319)\n",
      "NOLAMIR SARUTA 39 KM 8,4 BARRIO HIPODROMO 20000 MALDONADO URUGUAY\n",
      "SM RESINAS URUGUAY SA\n"
     ]
    }
   ],
   "source": [
    "# destinatario\n",
    "\n",
    "def get_destinatario(pdf):\n",
    "    \"\"\"\n",
    "    Obtiene el destinatario del archivo PDF usando pdfquery.\n",
    "    \"\"\"\n",
    "    destinatario_xml = pdf.pq(f'LTTextLineHorizontal:contains(\"34 Destinatario / Destinatario\")').next()\n",
    "    return destinatario_xml.text().replace('\\n', '').strip()\n",
    "\n",
    "test_func(get_destinatario)"
   ]
  },
  {
   "cell_type": "code",
   "execution_count": 43,
   "id": "02e535fa",
   "metadata": {},
   "outputs": [
    {
     "name": "stdout",
     "output_type": "stream",
     "text": [
      "30240.0\n",
      "31860.0\n",
      "31860.0\n",
      "28490.0\n",
      "26700.0\n"
     ]
    }
   ],
   "source": [
    "# valor_FOT\n",
    "\n",
    "def get_valor_FOT(pdf):\n",
    "    \"\"\"\n",
    "    Obtiene el valor FOT del archivo PDF usando pdfquery.\n",
    "    \"\"\"\n",
    "    valor_FOT_xml = pdf.pq(f'LTTextLineHorizontal:contains(\"/Valor FOT\")').next()\n",
    "    return float(valor_FOT_xml.text().strip())\n",
    "\n",
    "test_func(get_valor_FOT)"
   ]
  },
  {
   "cell_type": "code",
   "execution_count": 44,
   "id": "1486a3cb",
   "metadata": {},
   "outputs": [
    {
     "name": "stdout",
     "output_type": "stream",
     "text": [
      "3511.2\n",
      "3519.3\n",
      "3519.3\n",
      "3100.0\n",
      "3000.0\n"
     ]
    }
   ],
   "source": [
    "# flete_usd\n",
    "\n",
    "def get_flete_usd(pdf):\n",
    "    \"\"\"\n",
    "    Obtiene el flete en USD del archivo PDF usando pdfquery.\n",
    "    \"\"\"\n",
    "    flete_usd_xml = pdf.pq(f'LTTextBoxHorizontal:contains(\"Frete em U$S\")').next()\n",
    "    return float(flete_usd_xml.text().strip())\n",
    "\n",
    "test_func(get_flete_usd)"
   ]
  },
  {
   "cell_type": "code",
   "execution_count": 45,
   "id": "e9bc4572",
   "metadata": {},
   "outputs": [
    {
     "name": "stdout",
     "output_type": "stream",
     "text": [
      "DOW BRASIL IND E COM DE PROD QUIMICOSPLANT A972ROD BR-101 700KM 112 ANDAR 2 GALPAO 2 SALEIROS88311-600ITAJAI - SCBRAZIL (CNPJ 60435351000319)\n",
      "DOW BRASIL IND E COM DE PROD QUIMICOSPLANT A972ROD BR-101 700KM 112 ANDAR 2 GALPAO 2 SALEIROS88311-600ITAJAI - SC BRAZIL (CNPJ 60435351000319)\n",
      "DOW BRASIL IND E COM DE PRODUTOS QUIMICOS LTDA.PLANT A972 ROD BR-101 700 KM 112 ANDAR 2 GALAPAO 2 SALEIROS (88311-600)ITAJAI - SANTA CATARINA - BRAZIL (CNPJ 60435351000319)\n",
      "NOLAMIR SARUTA 39 KM 8,4 BARRIO HIPODROMO 20000 MALDONADO URUGUAY\n",
      "SM RESINAS URUGUAY SA\n"
     ]
    }
   ],
   "source": [
    "# consignatario\n",
    "\n",
    "def get_consignatario(pdf):\n",
    "    \"\"\"\n",
    "    Obtiene el consignatario del archivo PDF usando pdfquery.\n",
    "    \"\"\"\n",
    "    consignatario_xml = pdf.pq(f'LTTextLineHorizontal:contains(\"35 Consignatario /Consignatario \")').next()\n",
    "    return consignatario_xml.text().replace('\\n', '').strip()\n",
    "\n",
    "test_func(get_consignatario)"
   ]
  },
  {
   "cell_type": "code",
   "execution_count": 46,
   "id": "57495acc",
   "metadata": {},
   "outputs": [
    {
     "name": "stdout",
     "output_type": "stream",
     "text": [
      "PALETA\n",
      "PALETA\n",
      "PALETA\n",
      "PALETA\n",
      "PALETA\n"
     ]
    }
   ],
   "source": [
    "# tipo_bultos\n",
    "\n",
    "def get_tipo_bultos(pdf):\n",
    "    \"\"\"\n",
    "    Obtiene el tipo de bultos del archivo PDF usando pdfquery.\n",
    "    \"\"\"\n",
    "    tipo_bultos_xml = pdf.pq(f'LTTextBoxHorizontal:contains(\"Tipo dos volumes\")').next()\n",
    "    return tipo_bultos_xml.text().strip()\n",
    "\n",
    "test_func(get_tipo_bultos)"
   ]
  },
  {
   "cell_type": "code",
   "execution_count": 47,
   "id": "72ade5dc",
   "metadata": {},
   "outputs": [
    {
     "name": "stdout",
     "output_type": "stream",
     "text": [
      "18\n",
      "18\n",
      "18\n",
      "18\n",
      "18\n"
     ]
    }
   ],
   "source": [
    "# cantidad_bultos\n",
    "def get_cantidad_bultos(pdf):\n",
    "    \"\"\"\n",
    "    Obtiene la cantidad de bultos del archivo PDF usando pdfquery.\n",
    "    \"\"\"\n",
    "\n",
    "    \n",
    "    cantidad_bultos_xml = pdf.pq(f'LTTextBoxHorizontal:contains(\"31 Cantidad de bultos \")').next()\n",
    "    return int(cantidad_bultos_xml.text().strip())\n",
    "\n",
    "test_func(get_cantidad_bultos)"
   ]
  },
  {
   "cell_type": "code",
   "execution_count": 3,
   "id": "fa137b8c",
   "metadata": {},
   "outputs": [
    {
     "name": "stdout",
     "output_type": "stream",
     "text": [
      "27540.0\n",
      "27540.0\n",
      "27540.0\n",
      "27540.0\n",
      "27540.0\n"
     ]
    }
   ],
   "source": [
    "# peso_bruto\n",
    "def get_peso_bruto(pdf):\n",
    "\n",
    "    \"\"\"\n",
    "    Obtiene el peso bruto del archivo PDF usando pdfquery.\n",
    "    \"\"\"\n",
    "    peso_bruto_xml = pdf.pq(f'LTTextBoxHorizontal:contains(\"Peso bruto\")').next()\n",
    "    return float(peso_bruto_xml.text().strip())\n",
    "\n",
    "test_func(get_peso_bruto)"
   ]
  },
  {
   "cell_type": "code",
   "execution_count": 4,
   "id": "d8967b0e",
   "metadata": {},
   "outputs": [
    {
     "name": "stdout",
     "output_type": "stream",
     "text": [
      "Destinacion: 25003EC03000670E F. Ofic:25-02-2025\n",
      "Destinacion: 25003EC03000710W F. Ofic:27-02-2025\n",
      "Destinacion: 25003EC03000709H F. Ofic:27-02-2025\n",
      "Destinacion: 25003EC01001118A F. Ofic:26-02-2025\n",
      "Destinacion: 25003EC03000699P F. Ofic:26-02-2025\n"
     ]
    }
   ],
   "source": [
    "# documentos_anexos\n",
    "\n",
    "def get_documentos_anexos(pdf):\n",
    "    \"\"\"\n",
    "    Obtiene los documentos anexos del archivo PDF usando pdfquery.\n",
    "    \"\"\"\n",
    "    documentos_anexos_xml = pdf.pq(f'LTTextLineHorizontal:contains(\"Documentos anexos\")').next()\n",
    "    return documentos_anexos_xml.text().strip()\n",
    "\n",
    "test_func(get_documentos_anexos)"
   ]
  },
  {
   "cell_type": "code",
   "execution_count": 8,
   "id": "954ba9d7",
   "metadata": {},
   "outputs": [
    {
     "name": "stdout",
     "output_type": "stream",
     "text": [
      "18 PALLETS CONTENIENDO 1.080 BOLSAS DE POLIETILENO QUE DICEN CONTENER(cid:13)\n",
      "LLDPE 1613.11 POLYETHYLENE RESIN- 25 KG BAGS 60 BAGS ON A PALLET(cid:13)\n",
      "PESO NETO: 27.000 KILOS(cid:13)\n",
      "ORDEN 4009299815 -FACTURA DE EXPORTACION 0110-00049111(cid:13)\n",
      "MARCA: PBB/DOW - PAIS DE ORIGEN Y PROCEDENCIA: ARGENTINA-LIMPIO A BORDO\n",
      "Primera Fraccion: S - MIC 1ra. Fraccion: 25AR083924M - Cant. Total Bultos: 36\n",
      "POS. Arancelarias: 3901.40.00\n",
      "18 PALLETS CONTENIENDO 1.080 BOLSAS DE POLIETILENO QUE DICEN CONTENER (cid:13)\n",
      "LLDPE 1613.11 POLYETHYLENE RESIN- 25 KG BAGS 60 BAGS ON A PALLET(cid:13)\n",
      "PESO NETO: 27.000 KILOS(cid:13)\n",
      "ORDEN 4009299820 -FACTURA DE EXPORTACION 0110-00049155(cid:13)\n",
      "MARCA: PBB/DOW - PAIS DE ORIGEN Y PROCEDENCIA: ARGENTINA-LIMPIO A BORDO\n",
      "Primera Fraccion: S - MIC 1ra. Fraccion: 25AR083932L - Cant. Total Bultos: 36\n",
      "POS. Arancelarias: 3901.40.00\n",
      "18 PALLETS CONTENIENDO 1.080 BOLSAS DE POLIETILENO QUE DICE CONTENER:(cid:13)\n",
      "LLDPE 1613 POLYETHYLENE RESIN 25 KG BAG - 60 BAGS/PALLET(cid:13)\n",
      "PESO NETO: 27.000 KILOS(cid:13)\n",
      "FACTURA DE EXPORTACION 0110-00049154 - ORDEN 4009299822(cid:13)\n",
      "MARCAS: PBB/DOW(cid:13)\n",
      "PAIS DE ORIGEN Y PROCEDENCIA: ARGENTINA (cid:13)\n",
      "LIMPIO A BORDO\n",
      "Primera Fraccion: S - MIC 1ra. Fraccion: 25AR083944Y - Cant. Total Bultos: 36\n",
      "POS. Arancelarias: 3901.40.00\n",
      "18 PALLETS CONTENIENDO 1.080 BOLSAS DE POLIETILENO QUE DICE CONTENER:(cid:13)\n",
      "POLYETHYLENE NG6995 MEDIUM DENSITY - 25 KG BAGS - 60 BAGS ON PALLET(cid:13)\n",
      "PESO NETO: 27.000 KILOS(cid:13)\n",
      "FACTURA DE EXPORTACION 0110-00049162 - ORDEN 117065788- SHIPMENT: 45949238(cid:13)\n",
      "MARCAS: PBB/DOW - 1/18(cid:13)\n",
      "PAIS DE ORIGEN Y PROCEDENCIA: ARGENTINA (cid:13)\n",
      "LIMPIO A BORDO\n",
      "POS. Arancelarias: 3901.90.90\n",
      "18 PALLETS CONTENIENDO 1.080 BOLSAS DE POLIETILENO QUE DICE CONTENER:(cid:13)\n",
      "POLYETHYLENE 35057L HIGH DENSITY - 25 KG BAGS - 60 BAGS ON PALLET(cid:13)\n",
      "PESO NETO: 27.000 KILOS(cid:13)\n",
      "FACTURA DE EXPORTACION 0110-00049116 - ORDEN 117131067- SHIPMENT: 45949311(cid:13)\n",
      "MARCAS: PBB/DOW - 1/18(cid:13)\n",
      "PAIS DE ORIGEN Y PROCEDENCIA: ARGENTINA (cid:13)\n",
      "LIMPIO A BORDO\n",
      "POS. Arancelarias: 3901.20.29\n"
     ]
    }
   ],
   "source": [
    "# descripcion_mercancia\n",
    "\n",
    "def get_descripcion_mercancia(pdf):\n",
    "    \"\"\"\n",
    "    Obtiene la descripcion de la mercancia del archivo PDF usando pdfquery.\n",
    "    \"\"\"\n",
    "    descripcion_mercancia_xml = pdf.pq(f'LTTextLineHorizontal:contains(\"/ Marcas e numeros dos volumes, descric?o das mercadorias\")').next()\n",
    "    return descripcion_mercancia_xml.text().strip()\n",
    "\n",
    "test_func(get_descripcion_mercancia)"
   ]
  },
  {
   "cell_type": "code",
   "execution_count": 14,
   "id": "394cd2cf",
   "metadata": {},
   "outputs": [
    {
     "name": "stdout",
     "output_type": "stream",
     "text": [
      "LAFERRARA,FABIANDOMINGODOC:DNI22.165.680\n",
      "PUCHETA,MARTINDOC:DNI28.198.704\n",
      "MENA,JOSERAMONDOC:DNI18.071.471\n",
      "LEDESMAALEJANDROMARTINDOC:DNI32.461.334\n",
      "GAUTORAMONOLEGARIODOC:DNI26.393.930\n"
     ]
    }
   ],
   "source": [
    "# conductor\n",
    "\n",
    "def get_conductor(pdf):\n",
    "    \"\"\"\n",
    "    Obtiene el nombre del conductor del archivo PDF usando pdfquery.\n",
    "    \"\"\"\n",
    "    conductor_xml = pdf.pq(f'LTTextLineHorizontal:contains(\"CONDUCTOR 1\")')\n",
    "    \n",
    "    return ''.join(conductor_xml.text().strip().split()[2:])\n",
    "\n",
    "test_func(get_conductor)"
   ]
  },
  {
   "cell_type": "code",
   "execution_count": null,
   "id": "39df270a",
   "metadata": {},
   "outputs": [],
   "source": [
    "def extraer_datos_pdf(pdf):\n",
    "    \"\"\"\n",
    "    Extrae los datos del archivo PDF usando pdfquery.\n",
    "    \"\"\"\n",
    "    datos = {\n",
    "        \"archivo\": get_archivo_nombre(pdf),\n",
    "        \"fecha_emision\": get_fecha_emision(pdf),\n",
    "        \"porteador\": get_porteador(pdf),\n",
    "        \"ciudad_pais_partida\": get_ciudad_pais_partida(pdf),\n",
    "        \"ciudad_pais_destino\": get_ciudad_pais_destino(pdf),\n",
    "        \"camion_original\": get_camion_original(pdf),\n",
    "        \"placa_camion\": get_placa_camion(pdf),\n",
    "        \"placa_semiremolque\": get_placa_semiremolque(pdf),\n",
    "        \"carta_porte\": get_carta_porte(pdf),\n",
    "        \"aduana_destino\": get_aduana_destino(pdf),\n",
    "        \"destinatario\": get_destinatario(pdf),\n",
    "        \"valor_FOT\": get_valor_FOT(pdf),\n",
    "        \"flete_usd\": get_flete_usd(pdf),\n",
    "        \"consignatario\": get_consignatario(pdf),\n",
    "        \"tipo_bultos\": get_tipo_bultos(pdf),\n",
    "        \"cantidad_bultos\": get_cantidad_bultos(pdf),\n",
    "        \"peso_bruto\": get_peso_bruto(pdf),\n",
    "        \"documentos_anexos\": get_documentos_anexos(pdf), # FIXEAR CORTAR  F. Ofic:*******\n",
    "        \"descripcion_mercancia\": get_descripcion_mercancia(pdf), # FIXEAR SOLO PARTE QUE DICE TENER\n",
    "        \"conductor\": get_conductor(pdf)\n",
    "    }\n",
    "    return datos\n",
    "\n"
   ]
  },
  {
   "cell_type": "code",
   "execution_count": 23,
   "id": "45c3625f",
   "metadata": {},
   "outputs": [
    {
     "ename": "NameError",
     "evalue": "name 'get_fecha_emision' is not defined",
     "output_type": "error",
     "traceback": [
      "\u001b[31m---------------------------------------------------------------------------\u001b[39m",
      "\u001b[31mNameError\u001b[39m                                 Traceback (most recent call last)",
      "\u001b[36mCell\u001b[39m\u001b[36m \u001b[39m\u001b[32mIn[23]\u001b[39m\u001b[32m, line 5\u001b[39m\n\u001b[32m      3\u001b[39m pdf = PDFQuery(\u001b[33mf\u001b[39m\u001b[33m'\u001b[39m\u001b[33mtesting-data/\u001b[39m\u001b[38;5;132;01m{\u001b[39;00marchivo\u001b[38;5;132;01m}\u001b[39;00m\u001b[33m'\u001b[39m)\n\u001b[32m      4\u001b[39m pdf.load(\u001b[32m0\u001b[39m)\n\u001b[32m----> \u001b[39m\u001b[32m5\u001b[39m datos = \u001b[43mextraer_datos_pdf\u001b[49m\u001b[43m(\u001b[49m\u001b[43mpdf\u001b[49m\u001b[43m)\u001b[49m\n\u001b[32m      6\u001b[39m data.append(datos)\n",
      "\u001b[36mCell\u001b[39m\u001b[36m \u001b[39m\u001b[32mIn[21]\u001b[39m\u001b[32m, line 6\u001b[39m, in \u001b[36mextraer_datos_pdf\u001b[39m\u001b[34m(pdf)\u001b[39m\n\u001b[32m      1\u001b[39m \u001b[38;5;28;01mdef\u001b[39;00m\u001b[38;5;250m \u001b[39m\u001b[34mextraer_datos_pdf\u001b[39m(pdf):\n\u001b[32m      2\u001b[39m \u001b[38;5;250m    \u001b[39m\u001b[33;03m\"\"\"\u001b[39;00m\n\u001b[32m      3\u001b[39m \u001b[33;03m    Extrae los datos del archivo PDF usando pdfquery.\u001b[39;00m\n\u001b[32m      4\u001b[39m \u001b[33;03m    \"\"\"\u001b[39;00m\n\u001b[32m      5\u001b[39m     datos = {\n\u001b[32m----> \u001b[39m\u001b[32m6\u001b[39m         \u001b[33m\"\u001b[39m\u001b[33mfecha_emision\u001b[39m\u001b[33m\"\u001b[39m: \u001b[43mget_fecha_emision\u001b[49m(pdf),\n\u001b[32m      7\u001b[39m         \u001b[33m\"\u001b[39m\u001b[33mporteador\u001b[39m\u001b[33m\"\u001b[39m: get_porteador(pdf),\n\u001b[32m      8\u001b[39m         \u001b[33m\"\u001b[39m\u001b[33mciudad_pais_partida\u001b[39m\u001b[33m\"\u001b[39m: get_ciudad_pais_partida(pdf),\n\u001b[32m      9\u001b[39m         \u001b[33m\"\u001b[39m\u001b[33mciudad_pais_destino\u001b[39m\u001b[33m\"\u001b[39m: get_ciudad_pais_destino(pdf),\n\u001b[32m     10\u001b[39m         \u001b[33m\"\u001b[39m\u001b[33mcamion_original\u001b[39m\u001b[33m\"\u001b[39m: get_camion_original(pdf),\n\u001b[32m     11\u001b[39m         \u001b[33m\"\u001b[39m\u001b[33mplaca_camion\u001b[39m\u001b[33m\"\u001b[39m: get_placa_camion(pdf),\n\u001b[32m     12\u001b[39m         \u001b[33m\"\u001b[39m\u001b[33mplaca_semiremolque\u001b[39m\u001b[33m\"\u001b[39m: get_placa_semiremolque(pdf),\n\u001b[32m     13\u001b[39m         \u001b[33m\"\u001b[39m\u001b[33mcarta_porte\u001b[39m\u001b[33m\"\u001b[39m: get_carta_porte(pdf),\n\u001b[32m     14\u001b[39m         \u001b[33m\"\u001b[39m\u001b[33maduana_destino\u001b[39m\u001b[33m\"\u001b[39m: get_aduana_destino(pdf),\n\u001b[32m     15\u001b[39m         \u001b[33m\"\u001b[39m\u001b[33mdestinatario\u001b[39m\u001b[33m\"\u001b[39m: get_destinatario(pdf),\n\u001b[32m     16\u001b[39m         \u001b[33m\"\u001b[39m\u001b[33mvalor_FOT\u001b[39m\u001b[33m\"\u001b[39m: get_valor_FOT(pdf),\n\u001b[32m     17\u001b[39m         \u001b[33m\"\u001b[39m\u001b[33mflete_usd\u001b[39m\u001b[33m\"\u001b[39m: get_flete_usd(pdf),\n\u001b[32m     18\u001b[39m         \u001b[33m\"\u001b[39m\u001b[33mconsignatario\u001b[39m\u001b[33m\"\u001b[39m: get_consignatario(pdf),\n\u001b[32m     19\u001b[39m         \u001b[33m\"\u001b[39m\u001b[33mtipo_bultos\u001b[39m\u001b[33m\"\u001b[39m: get_tipo_bultos(pdf),\n\u001b[32m     20\u001b[39m         \u001b[33m\"\u001b[39m\u001b[33mcantidad_bultos\u001b[39m\u001b[33m\"\u001b[39m: get_cantidad_bultos(pdf),\n\u001b[32m     21\u001b[39m         \u001b[33m\"\u001b[39m\u001b[33mpeso_bruto\u001b[39m\u001b[33m\"\u001b[39m: get_peso_bruto(pdf),\n\u001b[32m     22\u001b[39m         \u001b[33m\"\u001b[39m\u001b[33mdocumentos_anexos\u001b[39m\u001b[33m\"\u001b[39m: get_documentos_anexos(pdf), \u001b[38;5;66;03m# FIXEAR CORTAR  F. Ofic:*******\u001b[39;00m\n\u001b[32m     23\u001b[39m         \u001b[33m\"\u001b[39m\u001b[33mdescripcion_mercancia\u001b[39m\u001b[33m\"\u001b[39m: get_descripcion_mercancia(pdf), \u001b[38;5;66;03m# FIXEAR SOLO PARTE QUE DICE TENER\u001b[39;00m\n\u001b[32m     24\u001b[39m         \u001b[33m\"\u001b[39m\u001b[33mconductor\u001b[39m\u001b[33m\"\u001b[39m: get_conductor(pdf)\n\u001b[32m     25\u001b[39m     }\n\u001b[32m     26\u001b[39m     \u001b[38;5;28;01mreturn\u001b[39;00m datos\n",
      "\u001b[31mNameError\u001b[39m: name 'get_fecha_emision' is not defined"
     ]
    }
   ],
   "source": [
    "data = []\n",
    "for archivo in archivos:\n",
    "    pdf = PDFQuery(f'testing-data/{archivo}')\n",
    "    pdf.load(0)\n",
    "    datos = extraer_datos_pdf(pdf)\n",
    "    data.append(datos)"
   ]
  },
  {
   "cell_type": "code",
   "execution_count": 66,
   "id": "39a42598",
   "metadata": {},
   "outputs": [],
   "source": [
    "df = pd.DataFrame(data)\n",
    "df.to_excel('data/output.xlsx', index=False)"
   ]
  },
  {
   "cell_type": "code",
   "execution_count": 23,
   "id": "d3cb0c9f",
   "metadata": {},
   "outputs": [
    {
     "name": "stdout",
     "output_type": "stream",
     "text": [
      "Procesado c:\\Users\\Usuario\\Desktop\\Rapha\\pdfs-to-excel\\testing-data\\25AR083924M.pdf en 1.19 segundos\n",
      "Procesado c:\\Users\\Usuario\\Desktop\\Rapha\\pdfs-to-excel\\testing-data\\25AR083928Z.pdf en 1.04 segundos\n",
      "Procesado c:\\Users\\Usuario\\Desktop\\Rapha\\pdfs-to-excel\\testing-data\\25AR083932L.pdf en 1.10 segundos\n",
      "Procesado c:\\Users\\Usuario\\Desktop\\Rapha\\pdfs-to-excel\\testing-data\\25AR083941L.pdf en 1.09 segundos\n",
      "Procesado c:\\Users\\Usuario\\Desktop\\Rapha\\pdfs-to-excel\\testing-data\\25AR083944Y.pdf en 1.03 segundos\n",
      "Procesado c:\\Users\\Usuario\\Desktop\\Rapha\\pdfs-to-excel\\testing-data\\25AR083949T.pdf en 1.06 segundos\n",
      "Procesado c:\\Users\\Usuario\\Desktop\\Rapha\\pdfs-to-excel\\testing-data\\25AR083975S.pdf en 1.12 segundos\n",
      "Procesado c:\\Users\\Usuario\\Desktop\\Rapha\\pdfs-to-excel\\testing-data\\25AR083978V.pdf en 1.12 segundos\n",
      "Procesado c:\\Users\\Usuario\\Desktop\\Rapha\\pdfs-to-excel\\testing-data\\25AR083980Y.pdf en 1.05 segundos\n",
      "Procesado c:\\Users\\Usuario\\Desktop\\Rapha\\pdfs-to-excel\\testing-data\\25AR083981P.pdf en 1.04 segundos\n",
      "Procesado c:\\Users\\Usuario\\Desktop\\Rapha\\pdfs-to-excel\\testing-data\\25AR083984S.pdf en 1.06 segundos\n",
      "Procesado c:\\Users\\Usuario\\Desktop\\Rapha\\pdfs-to-excel\\testing-data\\25AR083990P.pdf en 1.03 segundos\n",
      "Procesado c:\\Users\\Usuario\\Desktop\\Rapha\\pdfs-to-excel\\testing-data\\25AR084001W.pdf en 0.98 segundos\n",
      "Procesado c:\\Users\\Usuario\\Desktop\\Rapha\\pdfs-to-excel\\testing-data\\25AR084011A.pdf en 1.00 segundos\n",
      "Procesado c:\\Users\\Usuario\\Desktop\\Rapha\\pdfs-to-excel\\testing-data\\25AR084028X.pdf en 1.09 segundos\n",
      "Procesado c:\\Users\\Usuario\\Desktop\\Rapha\\pdfs-to-excel\\testing-data\\25AR084032D.pdf en 1.00 segundos\n",
      "Procesado c:\\Users\\Usuario\\Desktop\\Rapha\\pdfs-to-excel\\testing-data\\25AR084037X.pdf en 1.04 segundos\n",
      "Procesado c:\\Users\\Usuario\\Desktop\\Rapha\\pdfs-to-excel\\testing-data\\25AR084038J.pdf en 1.01 segundos\n",
      "Procesado c:\\Users\\Usuario\\Desktop\\Rapha\\pdfs-to-excel\\testing-data\\25AR084040C.pdf en 1.01 segundos\n",
      "Procesado c:\\Users\\Usuario\\Desktop\\Rapha\\pdfs-to-excel\\testing-data\\25AR084455M.pdf en 1.07 segundos\n",
      "Procesado c:\\Users\\Usuario\\Desktop\\Rapha\\pdfs-to-excel\\testing-data\\25AR084463L.pdf en 1.12 segundos\n",
      "Procesado c:\\Users\\Usuario\\Desktop\\Rapha\\pdfs-to-excel\\testing-data\\25AR164141D.pdf en 1.07 segundos\n"
     ]
    }
   ],
   "source": [
    "from pdfquery import PDFQuery\n",
    "import os\n",
    "from processing import process_pdf\n",
    "from utils import listar_archivos_pdf\n",
    "import pandas as pd\n",
    "\n",
    "\n",
    "# despues dividir por mes y año\n",
    "\n",
    "def process_all_pdfs(archivos: list)->list:\n",
    "    try:\n",
    "        data = list(map(process_pdf, archivos))\n",
    "    except Exception as e:\n",
    "        print(f\"Error procesando archivos: {e}\")\n",
    "        return None\n",
    "    \n",
    "    return data\n",
    "\n",
    "\n",
    "# de json a dataframe, y luego a excel\n",
    "\n",
    "# dejar un archivo general\n",
    "\n",
    "# despues dividir por mes y año\n",
    "\n",
    "if __name__ == \"__main__\":\n",
    "    archivos = listar_archivos_pdf('testing-data/')\n",
    "    \n",
    "    lista = process_all_pdfs(archivos)\n",
    "    df = pd.DataFrame(lista)\n",
    "    df.to_excel('data/output2.xlsx', index=False)"
   ]
  }
 ],
 "metadata": {
  "kernelspec": {
   "display_name": "venv",
   "language": "python",
   "name": "python3"
  },
  "language_info": {
   "codemirror_mode": {
    "name": "ipython",
    "version": 3
   },
   "file_extension": ".py",
   "mimetype": "text/x-python",
   "name": "python",
   "nbconvert_exporter": "python",
   "pygments_lexer": "ipython3",
   "version": "3.13.3"
  }
 },
 "nbformat": 4,
 "nbformat_minor": 5
}
