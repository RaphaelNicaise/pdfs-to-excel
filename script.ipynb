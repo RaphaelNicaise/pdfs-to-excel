{
 "cells": [
  {
   "cell_type": "code",
   "execution_count": 30,
   "id": "f80b3d96",
   "metadata": {},
   "outputs": [],
   "source": [
    "from pdfquery import PDFQuery\n",
    "import os \n",
    "import pandas as pd"
   ]
  },
  {
   "cell_type": "code",
   "execution_count": 63,
   "id": "9c054b5d",
   "metadata": {},
   "outputs": [
    {
     "data": {
      "text/plain": [
       "['25AR083924M.pdf',\n",
       " '25AR083928Z.pdf',\n",
       " '25AR083932L.pdf',\n",
       " '25AR083941L.pdf',\n",
       " '25AR083944Y.pdf',\n",
       " '25AR083949T.pdf',\n",
       " '25AR083975S.pdf',\n",
       " '25AR083978V.pdf',\n",
       " '25AR083980Y.pdf',\n",
       " '25AR083981P.pdf',\n",
       " '25AR083984S.pdf',\n",
       " '25AR083990P.pdf',\n",
       " '25AR084001W.pdf',\n",
       " '25AR084011A.pdf',\n",
       " '25AR084028X.pdf',\n",
       " '25AR084032D.pdf',\n",
       " '25AR084037X.pdf',\n",
       " '25AR084038J.pdf',\n",
       " '25AR084040C.pdf',\n",
       " '25AR084455M.pdf',\n",
       " '25AR084463L.pdf',\n",
       " '25AR164141D.pdf']"
      ]
     },
     "execution_count": 63,
     "metadata": {},
     "output_type": "execute_result"
    }
   ],
   "source": [
    "# utils\n",
    "\n",
    "def listar_archivos(directorio):\n",
    "    archivos = []\n",
    "    for file in os.listdir(directorio):\n",
    "        if os.path.isfile(os.path.join(directorio, file)):\n",
    "            archivos.append(file)\n",
    "    return archivos\n",
    "\n",
    "def pdf_a_xml(pdf: PDFQuery) -> None:\n",
    "    pdf.tree.write('data/output.xml', encoding='utf-8', xml_declaration=True, pretty_print=True)\n",
    "    \n",
    "def test_func(function):\n",
    "    for i in archivos[:10:2]:\n",
    "        pdf = PDFQuery(f'testing-data/{i}')\n",
    "        pdf.load(0)\n",
    "        print(function(pdf))\n",
    "\n",
    "archivos = listar_archivos('testing-data')\n",
    "archivos\n"
   ]
  },
  {
   "cell_type": "code",
   "execution_count": 32,
   "id": "965ad1ed",
   "metadata": {},
   "outputs": [
    {
     "name": "stdout",
     "output_type": "stream",
     "text": [
      "01-MAR-25\n",
      "02-MAR-25\n",
      "05-MAR-25\n",
      "01-MAR-25\n",
      "01-MAR-25\n"
     ]
    }
   ],
   "source": [
    "# fecha_emision\n",
    "\n",
    "def get_fecha_emision(pdf: PDFQuery) -> str:\n",
    "    \"\"\"Obtiene la fecha de emision del archivo PDF usando pdfquery.\n",
    "    \"\"\"\n",
    "    fecha_emision_xml = pdf.pq('LTTextLineHorizontal:contains(\"Fecha Emision\")').next()\n",
    "    return fecha_emision_xml.text()\n",
    "\n",
    "test_func(get_fecha_emision)"
   ]
  },
  {
   "cell_type": "code",
   "execution_count": 64,
   "id": "ff48fe44",
   "metadata": {},
   "outputs": [
    {
     "name": "stdout",
     "output_type": "stream",
     "text": [
      "EXPRESO EL AGUILUCHO S.A.\n"
     ]
    }
   ],
   "source": [
    "pdf = PDFQuery(f'testing-data/{archivos[2]}')\n",
    "pdf.load(0)\n",
    "#text = pdf.pq('LTTextLineHorizontal:contains(\"\")').text()\n",
    "print(pdf.pq('LTTextLineHorizontal:contains(\"Nombre y domicilio del porteador\")').next().text())\n",
    "\n",
    "pdf_a_xml(pdf)\n"
   ]
  },
  {
   "cell_type": "code",
   "execution_count": 34,
   "id": "45ccfc2e",
   "metadata": {},
   "outputs": [
    {
     "name": "stdout",
     "output_type": "stream",
     "text": [
      "EXPRESO EL AGUILUCHO S.A.\n",
      "EXPRESO EL AGUILUCHO S.A.\n",
      "EXPRESO EL AGUILUCHO S.A.\n",
      "EMPRESA DE TTES. DON PEDRO S.R.L.\n",
      "EMPRESA DE TTES. DON PEDRO S.R.L.\n"
     ]
    }
   ],
   "source": [
    "# PORTEADOR\n",
    "\n",
    "def get_porteador(pdf) -> str:\n",
    "    \"\"\"Obtiene el nombre y domicilio del porteador del archivo PDF usando pdfquery.\n",
    "    \"\"\"\n",
    "    porteador_xml = pdf.pq('LTTextLineHorizontal:contains(\"Nombre y domicilio del porteador\")').next()\n",
    "    if porteador_xml.text() == \"/ Nome e endereco do transportador\":\n",
    "        porteador_xml = porteador_xml.next()\n",
    "    return porteador_xml.text()\n",
    "\n",
    "test_func(get_porteador)"
   ]
  },
  {
   "cell_type": "code",
   "execution_count": 35,
   "id": "08d1c480",
   "metadata": {},
   "outputs": [
    {
     "name": "stdout",
     "output_type": "stream",
     "text": [
      "BAHIA BLANCA-ARGENTINA\n",
      "BAHIA BLANCA-ARGENTINA\n",
      "BAHIA BLANCA-ARGENTINA\n",
      "BAHIA BLANCA-ARGENTINA\n",
      "BAHIA BLANCA-ARGENTINA\n"
     ]
    }
   ],
   "source": [
    "# ciudad_pais_partida\n",
    "\n",
    "def get_ciudad_pais_partida(pdf) -> str:\n",
    "    \"\"\"Obtiene la ciudad de partida del archivo PDF usando pdfquery.\n",
    "    \"\"\"\n",
    "    ciudad_partida_xml = pdf.pq('LTTextLineHorizontal:contains(\"Aduana, ciudad y pais de partida\")').next()\n",
    "    return ciudad_partida_xml.text()\n",
    "\n",
    "test_func(get_ciudad_pais_partida)"
   ]
  },
  {
   "cell_type": "code",
   "execution_count": 36,
   "id": "08593d5f",
   "metadata": {},
   "outputs": [
    {
     "name": "stdout",
     "output_type": "stream",
     "text": [
      "ITAJAI-BRASIL\n",
      "ITAJAI-BRASIL\n",
      "ITAJAI-BRASIL\n",
      "MONTEVIDEO-URUGUAY\n",
      "MONTEVIDEO-URUGUAY\n"
     ]
    }
   ],
   "source": [
    "# ciudad_pais_destino\n",
    "\n",
    "def get_ciudad_pais_destino(pdf) -> str:\n",
    "    \"\"\"Obtiene la ciudad de destino del archivo PDF usando pdfquery.\n",
    "    \"\"\"\n",
    "    ciudad_destino_xml = pdf.pq('LTTextLineHorizontal:contains(\"/ Cidade e pais de destino final\")').next()\n",
    "    return ciudad_destino_xml.text()\n",
    "\n",
    "test_func(get_ciudad_pais_destino)"
   ]
  },
  {
   "cell_type": "code",
   "execution_count": 37,
   "id": "81ea5185",
   "metadata": {},
   "outputs": [
    {
     "name": "stdout",
     "output_type": "stream",
     "text": [
      "XPRESO EL AGUILUCHO S.A. - NECOCHEA 2601 - ROSARIO - SANTA FE - ARGENTINA\n",
      "XPRESO EL AGUILUCHO S.A. - NECOCHEA 2601 - ROSARIO - SANTA FE - ARGENTINA\n",
      "XPRESO EL AGUILUCHO S.A. - NECOCHEA 2601 - ROSARIO - SANTA FE - ARGENTINA\n",
      "MPRESA DE TTES. DON PEDRO S.R.L. - AV. VERGARA 6060 -\n",
      "MPRESA DE TTES. DON PEDRO S.R.L. - AV. VERGARA 6060 -\n"
     ]
    }
   ],
   "source": [
    "# camion_original -> en campo av vergara 6060 no termina de mostrar los datos, no encuentra la linea\n",
    "\n",
    "def get_camion_original(pdf) -> str:\n",
    "    \"\"\"Obtiene el camion original del archivo PDF usando pdfquery.\n",
    "    \"\"\"\n",
    "    x0, y0, x1, y1 = 31.52, 634.96, 306.04, 693.48\n",
    "\n",
    "    text_elements = pdf.pq(f'LTTextLineHorizontal:in_bbox(\"{x0},{y0},{x1},{y1}\")')\n",
    "    return text_elements.text().split(\"proprietario\", 1)[-1].strip()\n",
    "\n",
    "test_func(get_camion_original)\n"
   ]
  },
  {
   "cell_type": "code",
   "execution_count": 38,
   "id": "4c331b97",
   "metadata": {},
   "outputs": [
    {
     "name": "stdout",
     "output_type": "stream",
     "text": [
      "NDP946\n",
      "AB251CJ\n",
      "HJR534\n",
      "AE667VS\n",
      "AG028ZS\n"
     ]
    }
   ],
   "source": [
    "# placa_camion\n",
    "def get_placa_camion(pdf) -> str:\n",
    "    \"\"\"\n",
    "    Obtiene la placa del camión del archivo PDF usando pdfquery.\n",
    "    \"\"\"\n",
    "\n",
    "    placa_camion_xml = pdf.pq(f'LTTextBoxHorizontal:contains(\"Placa de Camion\")').next()\n",
    "    return placa_camion_xml.text().strip()\n",
    "\n",
    "test_func(get_placa_camion)"
   ]
  },
  {
   "cell_type": "code",
   "execution_count": 39,
   "id": "f8420515",
   "metadata": {},
   "outputs": [
    {
     "name": "stdout",
     "output_type": "stream",
     "text": [
      "AE891SO\n",
      "EMR189\n",
      "FGF446\n",
      "NLK538\n",
      "NLK564\n"
     ]
    }
   ],
   "source": [
    "# placa_semiremolque\n",
    "def get_placa_semiremolque(pdf):\n",
    "    \"\"\"\n",
    "    Obtiene la placa del semiremolque del archivo PDF usando pdfquery.\n",
    "    \"\"\"\n",
    "    placa_semiremolque_xml = pdf.pq(f'LTTextLineHorizontal:contains(\"Placa:\")').next()\n",
    "    return placa_semiremolque_xml.text().strip()\n",
    "\n",
    "test_func(get_placa_semiremolque)"
   ]
  },
  {
   "cell_type": "code",
   "execution_count": 40,
   "id": "4b3b9eaa",
   "metadata": {},
   "outputs": [
    {
     "name": "stdout",
     "output_type": "stream",
     "text": [
      "003AR.398.041358\n",
      "003AR.398.041359\n",
      "003AR.398.041360\n",
      "0032907\n",
      "0032909\n"
     ]
    }
   ],
   "source": [
    "# carta_de_porte\n",
    "def get_carta_porte(pdf):\n",
    "    \"\"\"\n",
    "    Obtiene la carta de porte del archivo PDF usando pdfquery.\n",
    "    \"\"\"\n",
    "    carta_porte_xml = pdf.pq(f'LTTextLineHorizontal:contains(\"23 N? carta de porte\")').next().next()\n",
    "    return carta_porte_xml.text().strip()\n",
    "\n",
    "for i in archivos[:10:2]:\n",
    "    pdf = PDFQuery(f'testing-data/{i}')\n",
    "    pdf.load(0)\n",
    "    print(get_carta_porte(pdf))"
   ]
  },
  {
   "cell_type": "code",
   "execution_count": 41,
   "id": "fcafd63b",
   "metadata": {},
   "outputs": [
    {
     "name": "stdout",
     "output_type": "stream",
     "text": [
      "1017500-URUGUAIANA-\n",
      "1017500-URUGUAIANA-\n",
      "1017500-URUGUAIANA-\n",
      "FRAY BENTOS-\n",
      "FRAY BENTOS-\n"
     ]
    }
   ],
   "source": [
    "# aduana_destino\n",
    "def get_aduana_destino(pdf):\n",
    "    \"\"\"\n",
    "    Obtiene la aduana de destino del archivo PDF usando pdfquery.\n",
    "    \"\"\"\n",
    "    aduana_destino_xml = pdf.pq(f'LTTextLineHorizontal:contains(\"24 Aduana de destino/ Alfandega de destino\")').next()\n",
    "    return aduana_destino_xml.text().strip()\n",
    "\n",
    "test_func(get_aduana_destino)"
   ]
  },
  {
   "cell_type": "code",
   "execution_count": 42,
   "id": "2170a080",
   "metadata": {},
   "outputs": [
    {
     "name": "stdout",
     "output_type": "stream",
     "text": [
      "DOW BRASIL IND E COM DE PROD QUIMICOSPLANT A972ROD BR-101 700KM 112 ANDAR 2 GALPAO 2 SALEIROS88311-600ITAJAI - SCBRAZIL (CNPJ 60435351000319)\n",
      "DOW BRASIL IND E COM DE PROD QUIMICOSPLANT A972ROD BR-101 700KM 112 ANDAR 2 GALPAO 2 SALEIROS88311-600ITAJAI - SCBRAZIL (CNPJ 60435351000319)\n",
      "DOW BRASIL IND E COM DE PRODUTOS QUIMICOS LTDA.PLANT A972 ROD BR-101 700 KM 112 ANDAR 2 GALAPAO 2 SALEIROS (88311-600)ITAJAI - SANTA CATARINA - BRAZIL (CNPJ 60435351000319)\n",
      "NOLAMIR SARUTA 39 KM 8,4 BARRIO HIPODROMO 20000 MALDONADO URUGUAY\n",
      "SM RESINAS URUGUAY SA\n"
     ]
    }
   ],
   "source": [
    "# destinatario\n",
    "\n",
    "def get_destinatario(pdf):\n",
    "    \"\"\"\n",
    "    Obtiene el destinatario del archivo PDF usando pdfquery.\n",
    "    \"\"\"\n",
    "    destinatario_xml = pdf.pq(f'LTTextLineHorizontal:contains(\"34 Destinatario / Destinatario\")').next()\n",
    "    return destinatario_xml.text().replace('\\n', '').strip()\n",
    "\n",
    "test_func(get_destinatario)"
   ]
  },
  {
   "cell_type": "code",
   "execution_count": 43,
   "id": "02e535fa",
   "metadata": {},
   "outputs": [
    {
     "name": "stdout",
     "output_type": "stream",
     "text": [
      "30240.0\n",
      "31860.0\n",
      "31860.0\n",
      "28490.0\n",
      "26700.0\n"
     ]
    }
   ],
   "source": [
    "# valor_FOT\n",
    "\n",
    "def get_valor_FOT(pdf):\n",
    "    \"\"\"\n",
    "    Obtiene el valor FOT del archivo PDF usando pdfquery.\n",
    "    \"\"\"\n",
    "    valor_FOT_xml = pdf.pq(f'LTTextLineHorizontal:contains(\"/Valor FOT\")').next()\n",
    "    return float(valor_FOT_xml.text().strip())\n",
    "\n",
    "test_func(get_valor_FOT)"
   ]
  },
  {
   "cell_type": "code",
   "execution_count": 44,
   "id": "1486a3cb",
   "metadata": {},
   "outputs": [
    {
     "name": "stdout",
     "output_type": "stream",
     "text": [
      "3511.2\n",
      "3519.3\n",
      "3519.3\n",
      "3100.0\n",
      "3000.0\n"
     ]
    }
   ],
   "source": [
    "# flete_usd\n",
    "\n",
    "def get_flete_usd(pdf):\n",
    "    \"\"\"\n",
    "    Obtiene el flete en USD del archivo PDF usando pdfquery.\n",
    "    \"\"\"\n",
    "    flete_usd_xml = pdf.pq(f'LTTextBoxHorizontal:contains(\"Frete em U$S\")').next()\n",
    "    return float(flete_usd_xml.text().strip())\n",
    "\n",
    "test_func(get_flete_usd)"
   ]
  },
  {
   "cell_type": "code",
   "execution_count": 45,
   "id": "e9bc4572",
   "metadata": {},
   "outputs": [
    {
     "name": "stdout",
     "output_type": "stream",
     "text": [
      "DOW BRASIL IND E COM DE PROD QUIMICOSPLANT A972ROD BR-101 700KM 112 ANDAR 2 GALPAO 2 SALEIROS88311-600ITAJAI - SCBRAZIL (CNPJ 60435351000319)\n",
      "DOW BRASIL IND E COM DE PROD QUIMICOSPLANT A972ROD BR-101 700KM 112 ANDAR 2 GALPAO 2 SALEIROS88311-600ITAJAI - SC BRAZIL (CNPJ 60435351000319)\n",
      "DOW BRASIL IND E COM DE PRODUTOS QUIMICOS LTDA.PLANT A972 ROD BR-101 700 KM 112 ANDAR 2 GALAPAO 2 SALEIROS (88311-600)ITAJAI - SANTA CATARINA - BRAZIL (CNPJ 60435351000319)\n",
      "NOLAMIR SARUTA 39 KM 8,4 BARRIO HIPODROMO 20000 MALDONADO URUGUAY\n",
      "SM RESINAS URUGUAY SA\n"
     ]
    }
   ],
   "source": [
    "# consignatario\n",
    "\n",
    "def get_consignatario(pdf):\n",
    "    \"\"\"\n",
    "    Obtiene el consignatario del archivo PDF usando pdfquery.\n",
    "    \"\"\"\n",
    "    consignatario_xml = pdf.pq(f'LTTextLineHorizontal:contains(\"35 Consignatario /Consignatario \")').next()\n",
    "    return consignatario_xml.text().replace('\\n', '').strip()\n",
    "\n",
    "test_func(get_consignatario)"
   ]
  },
  {
   "cell_type": "code",
   "execution_count": 46,
   "id": "57495acc",
   "metadata": {},
   "outputs": [
    {
     "name": "stdout",
     "output_type": "stream",
     "text": [
      "PALETA\n",
      "PALETA\n",
      "PALETA\n",
      "PALETA\n",
      "PALETA\n"
     ]
    }
   ],
   "source": [
    "# tipo_bultos\n",
    "\n",
    "def get_tipo_bultos(pdf):\n",
    "    \"\"\"\n",
    "    Obtiene el tipo de bultos del archivo PDF usando pdfquery.\n",
    "    \"\"\"\n",
    "    tipo_bultos_xml = pdf.pq(f'LTTextBoxHorizontal:contains(\"Tipo dos volumes\")').next()\n",
    "    return tipo_bultos_xml.text().strip()\n",
    "\n",
    "test_func(get_tipo_bultos)"
   ]
  },
  {
   "cell_type": "code",
   "execution_count": 47,
   "id": "72ade5dc",
   "metadata": {},
   "outputs": [
    {
     "name": "stdout",
     "output_type": "stream",
     "text": [
      "18\n",
      "18\n",
      "18\n",
      "18\n",
      "18\n"
     ]
    }
   ],
   "source": [
    "# cantidad_bultos\n",
    "def get_cantidad_bultos(pdf):\n",
    "    \"\"\"\n",
    "    Obtiene la cantidad de bultos del archivo PDF usando pdfquery.\n",
    "    \"\"\"\n",
    "\n",
    "    \n",
    "    cantidad_bultos_xml = pdf.pq(f'LTTextBoxHorizontal:contains(\"31 Cantidad de bultos \")').next()\n",
    "    return int(cantidad_bultos_xml.text().strip())\n",
    "\n",
    "test_func(get_cantidad_bultos)"
   ]
  },
  {
   "cell_type": "code",
   "execution_count": 48,
   "id": "fa137b8c",
   "metadata": {},
   "outputs": [
    {
     "name": "stdout",
     "output_type": "stream",
     "text": [
      "27540.0\n",
      "27540.0\n",
      "27540.0\n",
      "27540.0\n",
      "27540.0\n"
     ]
    }
   ],
   "source": [
    "# peso_bruto\n",
    "def get_peso_bruto(pdf):\n",
    "\n",
    "    \"\"\"\n",
    "    Obtiene el peso bruto del archivo PDF usando pdfquery.\n",
    "    \"\"\"\n",
    "    peso_bruto_xml = pdf.pq(f'LTTextBoxHorizontal:contains(\"Peso bruto\")').next()\n",
    "    return float(peso_bruto_xml.text().strip())\n",
    "\n",
    "test_func(get_peso_bruto)"
   ]
  },
  {
   "cell_type": "code",
   "execution_count": 49,
   "id": "d8967b0e",
   "metadata": {},
   "outputs": [
    {
     "name": "stdout",
     "output_type": "stream",
     "text": [
      "Destinacion: 25003EC03000670E F. Ofic:25-02-2025\n",
      "Destinacion: 25003EC03000710W F. Ofic:27-02-2025\n",
      "Destinacion: 25003EC03000709H F. Ofic:27-02-2025\n",
      "Destinacion: 25003EC01001118A F. Ofic:26-02-2025\n",
      "Destinacion: 25003EC03000699P F. Ofic:26-02-2025\n"
     ]
    }
   ],
   "source": [
    "# documentos_anexos\n",
    "\n",
    "def get_documentos_anexos(pdf):\n",
    "    \"\"\"\n",
    "    Obtiene los documentos anexos del archivo PDF usando pdfquery.\n",
    "    \"\"\"\n",
    "    documentos_anexos_xml = pdf.pq(f'LTTextLineHorizontal:contains(\"Documentos anexos\")').next()\n",
    "    return documentos_anexos_xml.text().strip()\n",
    "\n",
    "test_func(get_documentos_anexos)"
   ]
  },
  {
   "cell_type": "code",
   "execution_count": 50,
   "id": "954ba9d7",
   "metadata": {},
   "outputs": [
    {
     "name": "stdout",
     "output_type": "stream",
     "text": [
      "18 PALLETS CONTENIENDO 1.080 BOLSAS DE POLIETILENO QUE DICEN CONTENER(cid:13)\n",
      "LLDPE 1613.11 POLYETHYLENE RESIN- 25 KG BAGS 60 BAGS ON A PALLET(cid:13)\n",
      "PESO NETO: 27.000 KILOS(cid:13)\n",
      "ORDEN 4009299815 -FACTURA DE EXPORTACION 0110-00049111(cid:13)\n",
      "MARCA: PBB/DOW - PAIS DE ORIGEN Y PROCEDENCIA: ARGENTINA-LIMPIO A BORDO\n",
      "Primera Fraccion: S - MIC 1ra. Fraccion: 25AR083924M - Cant. Total Bultos: 36\n",
      "POS. Arancelarias: 3901.40.00\n",
      "18 PALLETS CONTENIENDO 1.080 BOLSAS DE POLIETILENO QUE DICEN CONTENER (cid:13)\n",
      "LLDPE 1613.11 POLYETHYLENE RESIN- 25 KG BAGS 60 BAGS ON A PALLET(cid:13)\n",
      "PESO NETO: 27.000 KILOS(cid:13)\n",
      "ORDEN 4009299820 -FACTURA DE EXPORTACION 0110-00049155(cid:13)\n",
      "MARCA: PBB/DOW - PAIS DE ORIGEN Y PROCEDENCIA: ARGENTINA-LIMPIO A BORDO\n",
      "Primera Fraccion: S - MIC 1ra. Fraccion: 25AR083932L - Cant. Total Bultos: 36\n",
      "POS. Arancelarias: 3901.40.00\n",
      "18 PALLETS CONTENIENDO 1.080 BOLSAS DE POLIETILENO QUE DICE CONTENER:(cid:13)\n",
      "LLDPE 1613 POLYETHYLENE RESIN 25 KG BAG - 60 BAGS/PALLET(cid:13)\n",
      "PESO NETO: 27.000 KILOS(cid:13)\n",
      "FACTURA DE EXPORTACION 0110-00049154 - ORDEN 4009299822(cid:13)\n",
      "MARCAS: PBB/DOW(cid:13)\n",
      "PAIS DE ORIGEN Y PROCEDENCIA: ARGENTINA (cid:13)\n",
      "LIMPIO A BORDO\n",
      "Primera Fraccion: S - MIC 1ra. Fraccion: 25AR083944Y - Cant. Total Bultos: 36\n",
      "POS. Arancelarias: 3901.40.00\n",
      "18 PALLETS CONTENIENDO 1.080 BOLSAS DE POLIETILENO QUE DICE CONTENER:(cid:13)\n",
      "POLYETHYLENE NG6995 MEDIUM DENSITY - 25 KG BAGS - 60 BAGS ON PALLET(cid:13)\n",
      "PESO NETO: 27.000 KILOS(cid:13)\n",
      "FACTURA DE EXPORTACION 0110-00049162 - ORDEN 117065788- SHIPMENT: 45949238(cid:13)\n",
      "MARCAS: PBB/DOW - 1/18(cid:13)\n",
      "PAIS DE ORIGEN Y PROCEDENCIA: ARGENTINA (cid:13)\n",
      "LIMPIO A BORDO\n",
      "POS. Arancelarias: 3901.90.90\n",
      "18 PALLETS CONTENIENDO 1.080 BOLSAS DE POLIETILENO QUE DICE CONTENER:(cid:13)\n",
      "POLYETHYLENE 35057L HIGH DENSITY - 25 KG BAGS - 60 BAGS ON PALLET(cid:13)\n",
      "PESO NETO: 27.000 KILOS(cid:13)\n",
      "FACTURA DE EXPORTACION 0110-00049116 - ORDEN 117131067- SHIPMENT: 45949311(cid:13)\n",
      "MARCAS: PBB/DOW - 1/18(cid:13)\n",
      "PAIS DE ORIGEN Y PROCEDENCIA: ARGENTINA (cid:13)\n",
      "LIMPIO A BORDO\n",
      "POS. Arancelarias: 3901.20.29\n"
     ]
    }
   ],
   "source": [
    "# descripcion_mercancia\n",
    "\n",
    "def get_descripcion_mercancia(pdf):\n",
    "    \"\"\"\n",
    "    Obtiene la descripcion de la mercancia del archivo PDF usando pdfquery.\n",
    "    \"\"\"\n",
    "    descripcion_mercancia_xml = pdf.pq(f'LTTextLineHorizontal:contains(\"/ Marcas e numeros dos volumes, descric?o das mercadorias\")').next()\n",
    "    return descripcion_mercancia_xml.text().strip()\n",
    "\n",
    "test_func(get_descripcion_mercancia)"
   ]
  },
  {
   "cell_type": "code",
   "execution_count": 51,
   "id": "394cd2cf",
   "metadata": {},
   "outputs": [
    {
     "name": "stdout",
     "output_type": "stream",
     "text": [
      "CONDUCTOR 1: LAFERRARA, FABIAN DOMINGO DOC:DNI 22.165.680\n",
      "CONDUCTOR 1: PUCHETA, MARTIN DOC:DNI 28.198.704\n",
      "CONDUCTOR 1: MENA, JOSE RAMON DOC:DNI 18.071.471\n",
      "CONDUCTOR 1: LEDESMA ALEJANDRO MARTIN DOC:DNI 32.461.334\n",
      "CONDUCTOR 1: GAUTO RAMON OLEGARIO DOC:DNI 26.393.930\n"
     ]
    }
   ],
   "source": [
    "# conductor\n",
    "\n",
    "def get_conductor(pdf):\n",
    "    \"\"\"\n",
    "    Obtiene el nombre del conductor del archivo PDF usando pdfquery.\n",
    "    \"\"\"\n",
    "    conductor_xml = pdf.pq(f'LTTextLineHorizontal:contains(\"CONDUCTOR 1\")')\n",
    "    return conductor_xml.text().strip()\n",
    "\n",
    "test_func(get_conductor)"
   ]
  },
  {
   "cell_type": "code",
   "execution_count": 52,
   "id": "39df270a",
   "metadata": {},
   "outputs": [],
   "source": [
    "def extraer_datos_pdf(pdf):\n",
    "    \"\"\"\n",
    "    Extrae los datos del archivo PDF usando pdfquery.\n",
    "    \"\"\"\n",
    "    datos = {\n",
    "        \"fecha_emision\": get_fecha_emision(pdf),\n",
    "        \"porteador\": get_porteador(pdf),\n",
    "        \"ciudad_pais_partida\": get_ciudad_pais_partida(pdf),\n",
    "        \"ciudad_pais_destino\": get_ciudad_pais_destino(pdf),\n",
    "        \"camion_original\": get_camion_original(pdf),\n",
    "        \"placa_camion\": get_placa_camion(pdf),\n",
    "        \"placa_semiremolque\": get_placa_semiremolque(pdf),\n",
    "        \"carta_porte\": get_carta_porte(pdf),\n",
    "        \"aduana_destino\": get_aduana_destino(pdf),\n",
    "        \"destinatario\": get_destinatario(pdf),\n",
    "        \"valor_FOT\": get_valor_FOT(pdf),\n",
    "        \"flete_usd\": get_flete_usd(pdf),\n",
    "        \"consignatario\": get_consignatario(pdf),\n",
    "        \"tipo_bultos\": get_tipo_bultos(pdf),\n",
    "        \"cantidad_bultos\": get_cantidad_bultos(pdf),\n",
    "        \"peso_bruto\": get_peso_bruto(pdf),\n",
    "        \"documentos_anexos\": get_documentos_anexos(pdf), # FIXEAR CORTAR  F. Ofic:*******\n",
    "        \"descripcion_mercancia\": get_descripcion_mercancia(pdf), # FIXEAR SOLO PARTE QUE DICE TENER\n",
    "        \"conductor\": get_conductor(pdf) # FIXEAR CORTAR CONDUCTOR 1\n",
    "    }\n",
    "    return datos\n",
    "\n"
   ]
  },
  {
   "cell_type": "code",
   "execution_count": 54,
   "id": "45c3625f",
   "metadata": {},
   "outputs": [],
   "source": [
    "data = []\n",
    "for archivo in archivos:\n",
    "    pdf = PDFQuery(f'testing-data/{archivo}')\n",
    "    pdf.load(0)\n",
    "    datos = extraer_datos_pdf(pdf)\n",
    "    data.append(datos)"
   ]
  },
  {
   "cell_type": "code",
   "execution_count": 66,
   "id": "39a42598",
   "metadata": {},
   "outputs": [],
   "source": [
    "df = pd.DataFrame(data)\n",
    "df.to_excel('data/output.xlsx', index=False)"
   ]
  }
 ],
 "metadata": {
  "kernelspec": {
   "display_name": "venv",
   "language": "python",
   "name": "python3"
  },
  "language_info": {
   "codemirror_mode": {
    "name": "ipython",
    "version": 3
   },
   "file_extension": ".py",
   "mimetype": "text/x-python",
   "name": "python",
   "nbconvert_exporter": "python",
   "pygments_lexer": "ipython3",
   "version": "3.13.3"
  }
 },
 "nbformat": 4,
 "nbformat_minor": 5
}
